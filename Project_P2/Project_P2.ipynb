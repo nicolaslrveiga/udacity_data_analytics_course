{
 "cells": [
  {
   "cell_type": "markdown",
   "metadata": {},
   "source": [
    "# Project P2\n",
    "### Contains my resolution of the second project from Data Analytics NanoDegree course.\n",
    "\n",
    "### Goal\n",
    "##### The goal for this notebook is to show a simple example of an analysis of the Titanic dataset in Python using Numpy and Pandas libraries. \n",
    "\n",
    "### Data Exploration\n",
    "#### Data Dictionary\n",
    "\n",
    "|Variable|\tDefinition|\n",
    "|--------|------------|\n",
    "|survival|\tSurvival  |\t\n",
    "|pclass\t |Ticket class|\n",
    "|sex\t |Sex         |\t\n",
    "|Age\t|Age in years |\n",
    "|sibsp\t|# of siblings | / spouses aboard the Titanic\n",
    "|parch\t|# of parents | / children aboard the Titanic\n",
    "|ticket\t|Ticket number|\n",
    "|fare\t|Passenger fare|\n",
    "|cabin\t|Cabin number|\t\n",
    "|embarked\t|Port of Embarkation|\n",
    "\n",
    "#### Variable Notes\n",
    "\n",
    "C = Cherbourg, Q = Queenstown, S = Southampton\n",
    "\n",
    "0 = No, 1 = Yes\n",
    "\n",
    "1 = 1st, 2 = 2nd, 3 = 3rd\n",
    "\n",
    "pclass: A proxy for socio-economic status (SES)\n",
    "\n",
    "1st = Upper\n",
    "2nd = Middle\n",
    "3rd = Lower\n",
    "\n",
    "age: Age is fractional if less than 1. If the age is estimated, is it in the form of xx.5\n",
    "\n",
    "sibsp: The dataset defines family relations in this way...\n",
    "Sibling = brother, sister, stepbrother, stepsister\n",
    "Spouse = husband, wife (mistresses and fiancés were ignored)\n",
    "\n",
    "parch: The dataset defines family relations in this way...\n",
    "Parent = mother, father\n",
    "Child = daughter, son, stepdaughter, stepson\n",
    "Some children travelled only with a nanny, therefore parch=0 for them."
   ]
  },
  {
   "cell_type": "code",
   "execution_count": 16,
   "metadata": {},
   "outputs": [
    {
     "data": {
      "text/html": [
       "<div>\n",
       "<style>\n",
       "    .dataframe thead tr:only-child th {\n",
       "        text-align: right;\n",
       "    }\n",
       "\n",
       "    .dataframe thead th {\n",
       "        text-align: left;\n",
       "    }\n",
       "\n",
       "    .dataframe tbody tr th {\n",
       "        vertical-align: top;\n",
       "    }\n",
       "</style>\n",
       "<table border=\"1\" class=\"dataframe\">\n",
       "  <thead>\n",
       "    <tr style=\"text-align: right;\">\n",
       "      <th></th>\n",
       "      <th>PassengerId</th>\n",
       "      <th>Survived</th>\n",
       "      <th>Pclass</th>\n",
       "      <th>Name</th>\n",
       "      <th>Sex</th>\n",
       "      <th>Age</th>\n",
       "      <th>SibSp</th>\n",
       "      <th>Parch</th>\n",
       "      <th>Ticket</th>\n",
       "      <th>Fare</th>\n",
       "      <th>Cabin</th>\n",
       "      <th>Embarked</th>\n",
       "    </tr>\n",
       "  </thead>\n",
       "  <tbody>\n",
       "    <tr>\n",
       "      <th>0</th>\n",
       "      <td>1</td>\n",
       "      <td>0</td>\n",
       "      <td>3</td>\n",
       "      <td>Braund, Mr. Owen Harris</td>\n",
       "      <td>male</td>\n",
       "      <td>22.0</td>\n",
       "      <td>1</td>\n",
       "      <td>0</td>\n",
       "      <td>A/5 21171</td>\n",
       "      <td>7.2500</td>\n",
       "      <td>NaN</td>\n",
       "      <td>S</td>\n",
       "    </tr>\n",
       "    <tr>\n",
       "      <th>1</th>\n",
       "      <td>2</td>\n",
       "      <td>1</td>\n",
       "      <td>1</td>\n",
       "      <td>Cumings, Mrs. John Bradley (Florence Briggs Th...</td>\n",
       "      <td>female</td>\n",
       "      <td>38.0</td>\n",
       "      <td>1</td>\n",
       "      <td>0</td>\n",
       "      <td>PC 17599</td>\n",
       "      <td>71.2833</td>\n",
       "      <td>C85</td>\n",
       "      <td>C</td>\n",
       "    </tr>\n",
       "    <tr>\n",
       "      <th>2</th>\n",
       "      <td>3</td>\n",
       "      <td>1</td>\n",
       "      <td>3</td>\n",
       "      <td>Heikkinen, Miss. Laina</td>\n",
       "      <td>female</td>\n",
       "      <td>26.0</td>\n",
       "      <td>0</td>\n",
       "      <td>0</td>\n",
       "      <td>STON/O2. 3101282</td>\n",
       "      <td>7.9250</td>\n",
       "      <td>NaN</td>\n",
       "      <td>S</td>\n",
       "    </tr>\n",
       "    <tr>\n",
       "      <th>3</th>\n",
       "      <td>4</td>\n",
       "      <td>1</td>\n",
       "      <td>1</td>\n",
       "      <td>Futrelle, Mrs. Jacques Heath (Lily May Peel)</td>\n",
       "      <td>female</td>\n",
       "      <td>35.0</td>\n",
       "      <td>1</td>\n",
       "      <td>0</td>\n",
       "      <td>113803</td>\n",
       "      <td>53.1000</td>\n",
       "      <td>C123</td>\n",
       "      <td>S</td>\n",
       "    </tr>\n",
       "    <tr>\n",
       "      <th>4</th>\n",
       "      <td>5</td>\n",
       "      <td>0</td>\n",
       "      <td>3</td>\n",
       "      <td>Allen, Mr. William Henry</td>\n",
       "      <td>male</td>\n",
       "      <td>35.0</td>\n",
       "      <td>0</td>\n",
       "      <td>0</td>\n",
       "      <td>373450</td>\n",
       "      <td>8.0500</td>\n",
       "      <td>NaN</td>\n",
       "      <td>S</td>\n",
       "    </tr>\n",
       "  </tbody>\n",
       "</table>\n",
       "</div>"
      ],
      "text/plain": [
       "   PassengerId  Survived  Pclass  \\\n",
       "0            1         0       3   \n",
       "1            2         1       1   \n",
       "2            3         1       3   \n",
       "3            4         1       1   \n",
       "4            5         0       3   \n",
       "\n",
       "                                                Name     Sex   Age  SibSp  \\\n",
       "0                            Braund, Mr. Owen Harris    male  22.0      1   \n",
       "1  Cumings, Mrs. John Bradley (Florence Briggs Th...  female  38.0      1   \n",
       "2                             Heikkinen, Miss. Laina  female  26.0      0   \n",
       "3       Futrelle, Mrs. Jacques Heath (Lily May Peel)  female  35.0      1   \n",
       "4                           Allen, Mr. William Henry    male  35.0      0   \n",
       "\n",
       "   Parch            Ticket     Fare Cabin Embarked  \n",
       "0      0         A/5 21171   7.2500   NaN        S  \n",
       "1      0          PC 17599  71.2833   C85        C  \n",
       "2      0  STON/O2. 3101282   7.9250   NaN        S  \n",
       "3      0            113803  53.1000  C123        S  \n",
       "4      0            373450   8.0500   NaN        S  "
      ]
     },
     "execution_count": 16,
     "metadata": {},
     "output_type": "execute_result"
    }
   ],
   "source": [
    "import pandas as pd\n",
    "import numpy as np\n",
    "import matplotlib.pyplot as plt\n",
    "import seaborn as sb\n",
    "%matplotlib inline\n",
    "print(titanic_data.describe())\n",
    "titanic_data = pd.read_csv('titanic_data.csv')\n",
    "titanic_data.head()"
   ]
  },
  {
   "cell_type": "code",
   "execution_count": 18,
   "metadata": {},
   "outputs": [
    {
     "data": {
      "text/html": [
       "<div>\n",
       "<style>\n",
       "    .dataframe thead tr:only-child th {\n",
       "        text-align: right;\n",
       "    }\n",
       "\n",
       "    .dataframe thead th {\n",
       "        text-align: left;\n",
       "    }\n",
       "\n",
       "    .dataframe tbody tr th {\n",
       "        vertical-align: top;\n",
       "    }\n",
       "</style>\n",
       "<table border=\"1\" class=\"dataframe\">\n",
       "  <thead>\n",
       "    <tr style=\"text-align: right;\">\n",
       "      <th></th>\n",
       "      <th>PassengerId</th>\n",
       "      <th>Survived</th>\n",
       "      <th>Pclass</th>\n",
       "      <th>Age</th>\n",
       "      <th>SibSp</th>\n",
       "      <th>Parch</th>\n",
       "      <th>Fare</th>\n",
       "    </tr>\n",
       "  </thead>\n",
       "  <tbody>\n",
       "    <tr>\n",
       "      <th>count</th>\n",
       "      <td>891.000000</td>\n",
       "      <td>891.000000</td>\n",
       "      <td>891.000000</td>\n",
       "      <td>714.000000</td>\n",
       "      <td>891.000000</td>\n",
       "      <td>891.000000</td>\n",
       "      <td>891.000000</td>\n",
       "    </tr>\n",
       "    <tr>\n",
       "      <th>mean</th>\n",
       "      <td>446.000000</td>\n",
       "      <td>0.383838</td>\n",
       "      <td>2.308642</td>\n",
       "      <td>29.699118</td>\n",
       "      <td>0.523008</td>\n",
       "      <td>0.381594</td>\n",
       "      <td>32.204208</td>\n",
       "    </tr>\n",
       "    <tr>\n",
       "      <th>std</th>\n",
       "      <td>257.353842</td>\n",
       "      <td>0.486592</td>\n",
       "      <td>0.836071</td>\n",
       "      <td>14.526497</td>\n",
       "      <td>1.102743</td>\n",
       "      <td>0.806057</td>\n",
       "      <td>49.693429</td>\n",
       "    </tr>\n",
       "    <tr>\n",
       "      <th>min</th>\n",
       "      <td>1.000000</td>\n",
       "      <td>0.000000</td>\n",
       "      <td>1.000000</td>\n",
       "      <td>0.420000</td>\n",
       "      <td>0.000000</td>\n",
       "      <td>0.000000</td>\n",
       "      <td>0.000000</td>\n",
       "    </tr>\n",
       "    <tr>\n",
       "      <th>25%</th>\n",
       "      <td>223.500000</td>\n",
       "      <td>0.000000</td>\n",
       "      <td>2.000000</td>\n",
       "      <td>20.125000</td>\n",
       "      <td>0.000000</td>\n",
       "      <td>0.000000</td>\n",
       "      <td>7.910400</td>\n",
       "    </tr>\n",
       "    <tr>\n",
       "      <th>50%</th>\n",
       "      <td>446.000000</td>\n",
       "      <td>0.000000</td>\n",
       "      <td>3.000000</td>\n",
       "      <td>28.000000</td>\n",
       "      <td>0.000000</td>\n",
       "      <td>0.000000</td>\n",
       "      <td>14.454200</td>\n",
       "    </tr>\n",
       "    <tr>\n",
       "      <th>75%</th>\n",
       "      <td>668.500000</td>\n",
       "      <td>1.000000</td>\n",
       "      <td>3.000000</td>\n",
       "      <td>38.000000</td>\n",
       "      <td>1.000000</td>\n",
       "      <td>0.000000</td>\n",
       "      <td>31.000000</td>\n",
       "    </tr>\n",
       "    <tr>\n",
       "      <th>max</th>\n",
       "      <td>891.000000</td>\n",
       "      <td>1.000000</td>\n",
       "      <td>3.000000</td>\n",
       "      <td>80.000000</td>\n",
       "      <td>8.000000</td>\n",
       "      <td>6.000000</td>\n",
       "      <td>512.329200</td>\n",
       "    </tr>\n",
       "  </tbody>\n",
       "</table>\n",
       "</div>"
      ],
      "text/plain": [
       "       PassengerId    Survived      Pclass         Age       SibSp  \\\n",
       "count   891.000000  891.000000  891.000000  714.000000  891.000000   \n",
       "mean    446.000000    0.383838    2.308642   29.699118    0.523008   \n",
       "std     257.353842    0.486592    0.836071   14.526497    1.102743   \n",
       "min       1.000000    0.000000    1.000000    0.420000    0.000000   \n",
       "25%     223.500000    0.000000    2.000000   20.125000    0.000000   \n",
       "50%     446.000000    0.000000    3.000000   28.000000    0.000000   \n",
       "75%     668.500000    1.000000    3.000000   38.000000    1.000000   \n",
       "max     891.000000    1.000000    3.000000   80.000000    8.000000   \n",
       "\n",
       "            Parch        Fare  \n",
       "count  891.000000  891.000000  \n",
       "mean     0.381594   32.204208  \n",
       "std      0.806057   49.693429  \n",
       "min      0.000000    0.000000  \n",
       "25%      0.000000    7.910400  \n",
       "50%      0.000000   14.454200  \n",
       "75%      0.000000   31.000000  \n",
       "max      6.000000  512.329200  "
      ]
     },
     "execution_count": 18,
     "metadata": {},
     "output_type": "execute_result"
    }
   ],
   "source": [
    "titanic_data.describe()"
   ]
  },
  {
   "cell_type": "code",
   "execution_count": 38,
   "metadata": {},
   "outputs": [
    {
     "data": {
      "text/plain": [
       "891"
      ]
     },
     "execution_count": 38,
     "metadata": {},
     "output_type": "execute_result"
    }
   ],
   "source": [
    "len(titanic_data)"
   ]
  },
  {
   "cell_type": "code",
   "execution_count": 21,
   "metadata": {},
   "outputs": [
    {
     "data": {
      "text/plain": [
       "0             A/5 21171\n",
       "1              PC 17599\n",
       "2      STON/O2. 3101282\n",
       "3                113803\n",
       "4                373450\n",
       "5                330877\n",
       "6                 17463\n",
       "7                349909\n",
       "8                347742\n",
       "9                237736\n",
       "10              PP 9549\n",
       "11               113783\n",
       "12            A/5. 2151\n",
       "13               347082\n",
       "14               350406\n",
       "15               248706\n",
       "16               382652\n",
       "17               244373\n",
       "18               345763\n",
       "19                 2649\n",
       "20               239865\n",
       "21               248698\n",
       "22               330923\n",
       "23               113788\n",
       "24               349909\n",
       "25               347077\n",
       "26                 2631\n",
       "27                19950\n",
       "28               330959\n",
       "29               349216\n",
       "             ...       \n",
       "861               28134\n",
       "862               17466\n",
       "863            CA. 2343\n",
       "864              233866\n",
       "865              236852\n",
       "866       SC/PARIS 2149\n",
       "867            PC 17590\n",
       "868              345777\n",
       "869              347742\n",
       "870              349248\n",
       "871               11751\n",
       "872                 695\n",
       "873              345765\n",
       "874           P/PP 3381\n",
       "875                2667\n",
       "876                7534\n",
       "877              349212\n",
       "878              349217\n",
       "879               11767\n",
       "880              230433\n",
       "881              349257\n",
       "882                7552\n",
       "883    C.A./SOTON 34068\n",
       "884     SOTON/OQ 392076\n",
       "885              382652\n",
       "886              211536\n",
       "887              112053\n",
       "888          W./C. 6607\n",
       "889              111369\n",
       "890              370376\n",
       "Name: Ticket, Length: 891, dtype: object"
      ]
     },
     "execution_count": 21,
     "metadata": {},
     "output_type": "execute_result"
    }
   ],
   "source": [
    "titanic_data['Ticket']"
   ]
  },
  {
   "cell_type": "code",
   "execution_count": 22,
   "metadata": {},
   "outputs": [
    {
     "data": {
      "text/plain": [
       "0              NaN\n",
       "1              C85\n",
       "2              NaN\n",
       "3             C123\n",
       "4              NaN\n",
       "5              NaN\n",
       "6              E46\n",
       "7              NaN\n",
       "8              NaN\n",
       "9              NaN\n",
       "10              G6\n",
       "11            C103\n",
       "12             NaN\n",
       "13             NaN\n",
       "14             NaN\n",
       "15             NaN\n",
       "16             NaN\n",
       "17             NaN\n",
       "18             NaN\n",
       "19             NaN\n",
       "20             NaN\n",
       "21             D56\n",
       "22             NaN\n",
       "23              A6\n",
       "24             NaN\n",
       "25             NaN\n",
       "26             NaN\n",
       "27     C23 C25 C27\n",
       "28             NaN\n",
       "29             NaN\n",
       "          ...     \n",
       "861            NaN\n",
       "862            D17\n",
       "863            NaN\n",
       "864            NaN\n",
       "865            NaN\n",
       "866            NaN\n",
       "867            A24\n",
       "868            NaN\n",
       "869            NaN\n",
       "870            NaN\n",
       "871            D35\n",
       "872    B51 B53 B55\n",
       "873            NaN\n",
       "874            NaN\n",
       "875            NaN\n",
       "876            NaN\n",
       "877            NaN\n",
       "878            NaN\n",
       "879            C50\n",
       "880            NaN\n",
       "881            NaN\n",
       "882            NaN\n",
       "883            NaN\n",
       "884            NaN\n",
       "885            NaN\n",
       "886            NaN\n",
       "887            B42\n",
       "888            NaN\n",
       "889           C148\n",
       "890            NaN\n",
       "Name: Cabin, Length: 891, dtype: object"
      ]
     },
     "execution_count": 22,
     "metadata": {},
     "output_type": "execute_result"
    }
   ],
   "source": [
    "titanic_data['Cabin']"
   ]
  },
  {
   "cell_type": "code",
   "execution_count": 32,
   "metadata": {},
   "outputs": [
    {
     "name": "stdout",
     "output_type": "stream",
     "text": [
      "687\n"
     ]
    }
   ],
   "source": [
    "print(len(titanic_data.loc[titanic_data['Cabin'].isnull() == True]))"
   ]
  },
  {
   "cell_type": "code",
   "execution_count": 36,
   "metadata": {},
   "outputs": [
    {
     "data": {
      "text/plain": [
       "<bound method Series.any of PassengerId    False\n",
       "Survived       False\n",
       "Pclass         False\n",
       "Name           False\n",
       "Sex            False\n",
       "Age             True\n",
       "SibSp          False\n",
       "Parch          False\n",
       "Ticket         False\n",
       "Fare           False\n",
       "Cabin           True\n",
       "Embarked        True\n",
       "dtype: bool>"
      ]
     },
     "execution_count": 36,
     "metadata": {},
     "output_type": "execute_result"
    }
   ],
   "source": [
    "titanic_data.isnull().any().any"
   ]
  },
  {
   "cell_type": "code",
   "execution_count": 37,
   "metadata": {},
   "outputs": [
    {
     "name": "stdout",
     "output_type": "stream",
     "text": [
      "177\n"
     ]
    }
   ],
   "source": [
    "print(len(titanic_data.loc[titanic_data['Age'].isnull() == True]))"
   ]
  },
  {
   "cell_type": "code",
   "execution_count": 39,
   "metadata": {},
   "outputs": [
    {
     "name": "stdout",
     "output_type": "stream",
     "text": [
      "2\n"
     ]
    }
   ],
   "source": [
    "print(len(titanic_data.loc[titanic_data['Embarked'].isnull() == True]))"
   ]
  },
  {
   "cell_type": "markdown",
   "metadata": {},
   "source": [
    "Good variables to explore are Survived, Pclass, Name, Sex, Age, SibSp, Parch, Fare and Embarker. The Variables Ticked seens to be useless and Cabin has to many NaN\n",
    "\n",
    "### Questions that are going to be answered:\n",
    " 1) How many passengers that survived?\n",
    " \n",
    " 2) From with gender are most of the survivers?\n",
    " \n",
    " 3) From with age group are most of the survivers?\n",
    " \n",
    " 4) Does your chances of survive increase if you have a relative on board?\n",
    " \n",
    " 5) Are survivers from a distinct social class?\n",
    " \n",
    " 6) With part of the ship had more survivers?"
   ]
  },
  {
   "cell_type": "markdown",
   "metadata": {},
   "source": [
    "### Data Wrangler"
   ]
  },
  {
   "cell_type": "markdown",
   "metadata": {},
   "source": [
    "1 - Removing data that is not going to be used. Collumns Name, Ticked and Cabin\n",
    "    Since we have information if someone has a parent or spouse on board we do not have to deal with the variable Name. We could split and categorize in surname or titles."
   ]
  },
  {
   "cell_type": "code",
   "execution_count": 2,
   "metadata": {},
   "outputs": [
    {
     "data": {
      "text/html": [
       "<div>\n",
       "<style>\n",
       "    .dataframe thead tr:only-child th {\n",
       "        text-align: right;\n",
       "    }\n",
       "\n",
       "    .dataframe thead th {\n",
       "        text-align: left;\n",
       "    }\n",
       "\n",
       "    .dataframe tbody tr th {\n",
       "        vertical-align: top;\n",
       "    }\n",
       "</style>\n",
       "<table border=\"1\" class=\"dataframe\">\n",
       "  <thead>\n",
       "    <tr style=\"text-align: right;\">\n",
       "      <th></th>\n",
       "      <th>PassengerId</th>\n",
       "      <th>Survived</th>\n",
       "      <th>Pclass</th>\n",
       "      <th>Sex</th>\n",
       "      <th>Age</th>\n",
       "      <th>SibSp</th>\n",
       "      <th>Parch</th>\n",
       "      <th>Fare</th>\n",
       "      <th>Embarked</th>\n",
       "    </tr>\n",
       "  </thead>\n",
       "  <tbody>\n",
       "    <tr>\n",
       "      <th>0</th>\n",
       "      <td>1</td>\n",
       "      <td>0</td>\n",
       "      <td>3</td>\n",
       "      <td>male</td>\n",
       "      <td>22.0</td>\n",
       "      <td>1</td>\n",
       "      <td>0</td>\n",
       "      <td>7.2500</td>\n",
       "      <td>S</td>\n",
       "    </tr>\n",
       "    <tr>\n",
       "      <th>1</th>\n",
       "      <td>2</td>\n",
       "      <td>1</td>\n",
       "      <td>1</td>\n",
       "      <td>female</td>\n",
       "      <td>38.0</td>\n",
       "      <td>1</td>\n",
       "      <td>0</td>\n",
       "      <td>71.2833</td>\n",
       "      <td>C</td>\n",
       "    </tr>\n",
       "    <tr>\n",
       "      <th>2</th>\n",
       "      <td>3</td>\n",
       "      <td>1</td>\n",
       "      <td>3</td>\n",
       "      <td>female</td>\n",
       "      <td>26.0</td>\n",
       "      <td>0</td>\n",
       "      <td>0</td>\n",
       "      <td>7.9250</td>\n",
       "      <td>S</td>\n",
       "    </tr>\n",
       "    <tr>\n",
       "      <th>3</th>\n",
       "      <td>4</td>\n",
       "      <td>1</td>\n",
       "      <td>1</td>\n",
       "      <td>female</td>\n",
       "      <td>35.0</td>\n",
       "      <td>1</td>\n",
       "      <td>0</td>\n",
       "      <td>53.1000</td>\n",
       "      <td>S</td>\n",
       "    </tr>\n",
       "    <tr>\n",
       "      <th>4</th>\n",
       "      <td>5</td>\n",
       "      <td>0</td>\n",
       "      <td>3</td>\n",
       "      <td>male</td>\n",
       "      <td>35.0</td>\n",
       "      <td>0</td>\n",
       "      <td>0</td>\n",
       "      <td>8.0500</td>\n",
       "      <td>S</td>\n",
       "    </tr>\n",
       "  </tbody>\n",
       "</table>\n",
       "</div>"
      ],
      "text/plain": [
       "   PassengerId  Survived  Pclass     Sex   Age  SibSp  Parch     Fare Embarked\n",
       "0            1         0       3    male  22.0      1      0   7.2500        S\n",
       "1            2         1       1  female  38.0      1      0  71.2833        C\n",
       "2            3         1       3  female  26.0      0      0   7.9250        S\n",
       "3            4         1       1  female  35.0      1      0  53.1000        S\n",
       "4            5         0       3    male  35.0      0      0   8.0500        S"
      ]
     },
     "execution_count": 2,
     "metadata": {},
     "output_type": "execute_result"
    }
   ],
   "source": [
    "titanic_data.drop(['Name', 'Ticket', 'Cabin'], axis = 1, inplace = True)\n",
    "titanic_data.head()"
   ]
  },
  {
   "cell_type": "markdown",
   "metadata": {},
   "source": [
    "2 - Dealing with nulls"
   ]
  },
  {
   "cell_type": "code",
   "execution_count": 4,
   "metadata": {},
   "outputs": [
    {
     "name": "stdout",
     "output_type": "stream",
     "text": [
      "     PassengerId  Survived  Pclass     Sex  Age  SibSp  Parch      Fare  \\\n",
      "5              6         0       3    male  NaN      0      0    8.4583   \n",
      "17            18         1       2    male  NaN      0      0   13.0000   \n",
      "19            20         1       3  female  NaN      0      0    7.2250   \n",
      "26            27         0       3    male  NaN      0      0    7.2250   \n",
      "28            29         1       3  female  NaN      0      0    7.8792   \n",
      "29            30         0       3    male  NaN      0      0    7.8958   \n",
      "31            32         1       1  female  NaN      1      0  146.5208   \n",
      "32            33         1       3  female  NaN      0      0    7.7500   \n",
      "36            37         1       3    male  NaN      0      0    7.2292   \n",
      "42            43         0       3    male  NaN      0      0    7.8958   \n",
      "45            46         0       3    male  NaN      0      0    8.0500   \n",
      "46            47         0       3    male  NaN      1      0   15.5000   \n",
      "47            48         1       3  female  NaN      0      0    7.7500   \n",
      "48            49         0       3    male  NaN      2      0   21.6792   \n",
      "55            56         1       1    male  NaN      0      0   35.5000   \n",
      "64            65         0       1    male  NaN      0      0   27.7208   \n",
      "65            66         1       3    male  NaN      1      1   15.2458   \n",
      "76            77         0       3    male  NaN      0      0    7.8958   \n",
      "77            78         0       3    male  NaN      0      0    8.0500   \n",
      "82            83         1       3  female  NaN      0      0    7.7875   \n",
      "87            88         0       3    male  NaN      0      0    8.0500   \n",
      "95            96         0       3    male  NaN      0      0    8.0500   \n",
      "101          102         0       3    male  NaN      0      0    7.8958   \n",
      "107          108         1       3    male  NaN      0      0    7.7750   \n",
      "109          110         1       3  female  NaN      1      0   24.1500   \n",
      "121          122         0       3    male  NaN      0      0    8.0500   \n",
      "126          127         0       3    male  NaN      0      0    7.7500   \n",
      "128          129         1       3  female  NaN      1      1   22.3583   \n",
      "140          141         0       3  female  NaN      0      2   15.2458   \n",
      "154          155         0       3    male  NaN      0      0    7.3125   \n",
      "..           ...       ...     ...     ...  ...    ...    ...       ...   \n",
      "718          719         0       3    male  NaN      0      0   15.5000   \n",
      "727          728         1       3  female  NaN      0      0    7.7375   \n",
      "732          733         0       2    male  NaN      0      0    0.0000   \n",
      "738          739         0       3    male  NaN      0      0    7.8958   \n",
      "739          740         0       3    male  NaN      0      0    7.8958   \n",
      "740          741         1       1    male  NaN      0      0   30.0000   \n",
      "760          761         0       3    male  NaN      0      0   14.5000   \n",
      "766          767         0       1    male  NaN      0      0   39.6000   \n",
      "768          769         0       3    male  NaN      1      0   24.1500   \n",
      "773          774         0       3    male  NaN      0      0    7.2250   \n",
      "776          777         0       3    male  NaN      0      0    7.7500   \n",
      "778          779         0       3    male  NaN      0      0    7.7375   \n",
      "783          784         0       3    male  NaN      1      2   23.4500   \n",
      "790          791         0       3    male  NaN      0      0    7.7500   \n",
      "792          793         0       3  female  NaN      8      2   69.5500   \n",
      "793          794         0       1    male  NaN      0      0   30.6958   \n",
      "815          816         0       1    male  NaN      0      0    0.0000   \n",
      "825          826         0       3    male  NaN      0      0    6.9500   \n",
      "826          827         0       3    male  NaN      0      0   56.4958   \n",
      "828          829         1       3    male  NaN      0      0    7.7500   \n",
      "832          833         0       3    male  NaN      0      0    7.2292   \n",
      "837          838         0       3    male  NaN      0      0    8.0500   \n",
      "839          840         1       1    male  NaN      0      0   29.7000   \n",
      "846          847         0       3    male  NaN      8      2   69.5500   \n",
      "849          850         1       1  female  NaN      1      0   89.1042   \n",
      "859          860         0       3    male  NaN      0      0    7.2292   \n",
      "863          864         0       3  female  NaN      8      2   69.5500   \n",
      "868          869         0       3    male  NaN      0      0    9.5000   \n",
      "878          879         0       3    male  NaN      0      0    7.8958   \n",
      "888          889         0       3  female  NaN      1      2   23.4500   \n",
      "\n",
      "    Embarked  \n",
      "5          Q  \n",
      "17         S  \n",
      "19         C  \n",
      "26         C  \n",
      "28         Q  \n",
      "29         S  \n",
      "31         C  \n",
      "32         Q  \n",
      "36         C  \n",
      "42         C  \n",
      "45         S  \n",
      "46         Q  \n",
      "47         Q  \n",
      "48         C  \n",
      "55         S  \n",
      "64         C  \n",
      "65         C  \n",
      "76         S  \n",
      "77         S  \n",
      "82         Q  \n",
      "87         S  \n",
      "95         S  \n",
      "101        S  \n",
      "107        S  \n",
      "109        Q  \n",
      "121        S  \n",
      "126        Q  \n",
      "128        C  \n",
      "140        C  \n",
      "154        S  \n",
      "..       ...  \n",
      "718        Q  \n",
      "727        Q  \n",
      "732        S  \n",
      "738        S  \n",
      "739        S  \n",
      "740        S  \n",
      "760        S  \n",
      "766        C  \n",
      "768        Q  \n",
      "773        C  \n",
      "776        Q  \n",
      "778        Q  \n",
      "783        S  \n",
      "790        Q  \n",
      "792        S  \n",
      "793        C  \n",
      "815        S  \n",
      "825        Q  \n",
      "826        S  \n",
      "828        Q  \n",
      "832        C  \n",
      "837        S  \n",
      "839        C  \n",
      "846        S  \n",
      "849        C  \n",
      "859        C  \n",
      "863        S  \n",
      "868        S  \n",
      "878        S  \n",
      "888        S  \n",
      "\n",
      "[177 rows x 9 columns]\n"
     ]
    }
   ],
   "source": [
    "index_is_age_nan = titanic_data.index[titanic_data['Age'].isnull()]\n",
    "print(titanic_data.iloc[index_is_age_nan])"
   ]
  },
  {
   "cell_type": "code",
   "execution_count": 5,
   "metadata": {},
   "outputs": [
    {
     "name": "stdout",
     "output_type": "stream",
     "text": [
      "     PassengerId  Survived  Pclass     Sex   Age  SibSp  Parch  Fare Embarked\n",
      "61            62         1       1  female  38.0      0      0  80.0      NaN\n",
      "829          830         1       1  female  62.0      0      0  80.0      NaN\n"
     ]
    }
   ],
   "source": [
    "index_is_embarked_nan = titanic_data.index[titanic_data['Embarked'].isnull()]\n",
    "print(titanic_data.iloc[index_is_embarked_nan])"
   ]
  },
  {
   "cell_type": "markdown",
   "metadata": {},
   "source": [
    "Going to keep the rows with NaN for now, they can still be used to compute same statistics"
   ]
  },
  {
   "cell_type": "markdown",
   "metadata": {},
   "source": [
    "### Explore\n",
    "#### 1) How many passengers did survive?"
   ]
  },
  {
   "cell_type": "code",
   "execution_count": 56,
   "metadata": {},
   "outputs": [
    {
     "name": "stdout",
     "output_type": "stream",
     "text": [
      "from 891, 342 survived\n"
     ]
    }
   ],
   "source": [
    "print(\"from %d, %d survived\" %(len(titanic_data) ,titanic_data['Survived'].sum()))"
   ]
  },
  {
   "cell_type": "markdown",
   "metadata": {},
   "source": [
    "#### 2) From with gender are most of the survivers?"
   ]
  },
  {
   "cell_type": "code",
   "execution_count": 57,
   "metadata": {
    "scrolled": true
   },
   "outputs": [
    {
     "name": "stdout",
     "output_type": "stream",
     "text": [
      "There was 233 female survivers against 109 male survivers, while 81 females did not survive and 468 male did not survive\n"
     ]
    },
    {
     "data": {
      "text/plain": [
       "<matplotlib.legend.Legend at 0xecbc208>"
      ]
     },
     "execution_count": 57,
     "metadata": {},
     "output_type": "execute_result"
    },
    {
     "data": {
      "image/png": "[encoded data removed]",
      "text/plain": [
       "<matplotlib.figure.Figure at 0xe7d5f60>"
      ]
     },
     "metadata": {},
     "output_type": "display_data"
    }
   ],
   "source": [
    "titanic_survivers_data = titanic_data.iloc[titanic_data.index[titanic_data['Survived'] == 1]]\n",
    "titanic_non_survivers_data = titanic_data.iloc[titanic_data.index[titanic_data['Survived'] == 0]]\n",
    "\n",
    "counter_female_survivers = 0\n",
    "counter_male_survivers = 0\n",
    "counter_female_non_survivers = 0\n",
    "counter_male_non_survivers = 0\n",
    "\n",
    "for surviver in titanic_survivers_data['Sex']:\n",
    "    if surviver == 'female':\n",
    "        counter_female_survivers += 1\n",
    "    else:\n",
    "        counter_male_survivers += 1\n",
    "        \n",
    "for surviver in titanic_non_survivers_data['Sex']:\n",
    "    if surviver == 'female':\n",
    "        counter_female_non_survivers += 1\n",
    "    else:\n",
    "        counter_male_non_survivers += 1\n",
    "\n",
    "print('There was %d female survivers against %d male survivers, while %d females did not survive and %d male did not survive'\n",
    "     %(counter_female_survivers, counter_male_survivers, counter_female_non_survivers, counter_male_non_survivers))\n",
    "\n",
    "N = 2\n",
    "survivers = (counter_female_survivers, counter_male_survivers)\n",
    "non_survivers = (counter_female_non_survivers, counter_male_non_survivers)\n",
    "ind = np.arange(N)  # the x locations for the groups\n",
    "width = 0.35       # the width of the bars\n",
    "\n",
    "figure_3 = plt.figure()\n",
    "ax3 = figure_3.add_subplot(111)\n",
    "rects_survivers = ax3.bar(ind, survivers, width, color='blue')\n",
    "rects_non_survivers = ax3.bar(ind + width, non_survivers, width, color='black')\n",
    "\n",
    "# add some text for labels, title and axes ticks\n",
    "ax3.set_ylabel('Frequency')\n",
    "ax3.set_title('survivers and non survivers by gender')\n",
    "ax3.set_xticks(ind + width / 2)\n",
    "ax3.set_xticklabels(('survivers', 'non survivers'))\n",
    "\n",
    "ax3.legend((rects_survivers[0], rects_non_survivers[0]), ('Woman', 'Men'))"
   ]
  },
  {
   "cell_type": "code",
   "execution_count": 55,
   "metadata": {},
   "outputs": [
    {
     "name": "stdout",
     "output_type": "stream",
     "text": [
      "Another way:\n",
      "Sex       female  male\n",
      "Survived              \n",
      "0             81   468\n",
      "1            233   109\n"
     ]
    },
    {
     "data": {
      "text/plain": [
       "<matplotlib.axes._subplots.AxesSubplot at 0xf121278>"
      ]
     },
     "execution_count": 55,
     "metadata": {},
     "output_type": "execute_result"
    },
    {
     "data": {
      "text/plain": [
       "<matplotlib.figure.Figure at 0x11c0d4e0>"
      ]
     },
     "metadata": {},
     "output_type": "display_data"
    },
    {
     "data": {
      "image/png": "[encoded data removed]",
      "text/plain": [
       "<matplotlib.figure.Figure at 0xf7c0710>"
      ]
     },
     "metadata": {},
     "output_type": "display_data"
    }
   ],
   "source": [
    "print(\"Another way:\")\n",
    "print(titanic_data.pivot_table(values='PassengerId', index='Survived', columns='Sex', aggfunc=len))\n",
    "plt.figure()\n",
    "titanic_data.pivot_table(values='PassengerId', index='Survived', columns='Sex', aggfunc=len).plot.bar(color=['red', 'blue'])"
   ]
  },
  {
   "cell_type": "markdown",
   "metadata": {},
   "source": [
    "If you were a woman you had a total 233 / 891 = 0,262 chance of surviving overall and a 233/(233+81) = 0,742 chance between the woman.\n",
    "If you were a man you had a total 109 / 891 = 0,122 chance of surviving overall and a 109/(109+468) = 0,189 chance between the man.\n",
    "\n",
    "#### 3) From with age group are most of the survivers?"
   ]
  },
  {
   "cell_type": "code",
   "execution_count": 58,
   "metadata": {},
   "outputs": [
    {
     "data": {
      "text/plain": [
       "<matplotlib.legend.Legend at 0xfbfabe0>"
      ]
     },
     "execution_count": 58,
     "metadata": {},
     "output_type": "execute_result"
    },
    {
     "data": {
      "image/png": "[encoded data removed]",
      "text/plain": [
       "<matplotlib.figure.Figure at 0xc40c668>"
      ]
     },
     "metadata": {},
     "output_type": "display_data"
    }
   ],
   "source": [
    "#removing NaN and plotting histogram\n",
    "index_is_age_nan = titanic_survivers_data.index[titanic_survivers_data['Age'].isnull()]\n",
    "titanic_survivers_data = titanic_survivers_data.drop(index_is_age_nan)\n",
    "figure_1 = plt.figure()\n",
    "ax1 = figure_1.add_subplot(111)\n",
    "plt.title(\"Titanic survivers and non survivers\")\n",
    "titanic_survivers_data['Age'].hist(alpha=0.5, color='blue', label = 'survivers')\n",
    "\n",
    "index_is_age_nan = titanic_non_survivers_data.index[titanic_non_survivers_data['Age'].isnull()]\n",
    "titanic_non_survivers_data = titanic_non_survivers_data.drop(index_is_age_nan)\n",
    "plt.title(\"Titanic non survivers\")\n",
    "titanic_non_survivers_data['Age'].hist(alpha = 0.5, color = 'black', label='non survivers')\n",
    "plt.legend()"
   ]
  },
  {
   "cell_type": "code",
   "execution_count": 100,
   "metadata": {},
   "outputs": [
    {
     "data": {
      "text/plain": [
       "<matplotlib.axes._subplots.AxesSubplot at 0x1522fe80>"
      ]
     },
     "execution_count": 100,
     "metadata": {},
     "output_type": "execute_result"
    },
    {
     "data": {
      "image/png": "[encoded data removed]",
      "text/plain": [
       "<matplotlib.figure.Figure at 0x15235278>"
      ]
     },
     "metadata": {},
     "output_type": "display_data"
    }
   ],
   "source": [
    "# going to divide the dataset into 3 age groups, first_group from 0 to 18, second_group from 18 to 60 and third group 60+\n",
    "index_is_age_nan = titanic_data.index[titanic_data['Age'].isnull()]\n",
    "titanic_data = titanic_data.drop(index_is_age_nan)\n",
    "\n",
    "group_by_age = titanic_data.groupby([pd.cut(titanic_data['Age'], [0, 18, 60, titanic_data['Age'].max()]), 'Survived'])\n",
    "group_by_age = group_by_age['Age'].count()\n",
    "group_by_age.plot.bar(color=['black', 'blue'])"
   ]
  },
  {
   "cell_type": "markdown",
   "metadata": {},
   "source": [
    "From the graph above we can not see that there is a diference between the number of people that survived and died for the Age group between 0 and 18, going to create another group, 0-8 to see if we can see what the first histogram showed us"
   ]
  },
  {
   "cell_type": "code",
   "execution_count": 110,
   "metadata": {},
   "outputs": [
    {
     "data": {
      "text/plain": [
       "<matplotlib.axes._subplots.AxesSubplot at 0x18f79048>"
      ]
     },
     "execution_count": 110,
     "metadata": {},
     "output_type": "execute_result"
    },
    {
     "data": {
      "image/png": "[encoded data removed]",
      "text/plain": [
       "<matplotlib.figure.Figure at 0x1839d320>"
      ]
     },
     "metadata": {},
     "output_type": "display_data"
    }
   ],
   "source": [
    "group_by_age = titanic_data.groupby([pd.cut(titanic_data['Age'], [0, 8, 18, 60, titanic_data['Age'].max()]), 'Survived'])\n",
    "group_by_age = group_by_age['Age'].count()\n",
    "group_by_age.plot.bar(color=['black', 'blue'])"
   ]
  },
  {
   "cell_type": "markdown",
   "metadata": {},
   "source": [
    "Ok, now we can observe what we expected from the first histogram, that the only group were we have more survivers than deads is in the group age from 0 to 10, all the other groups we had more deads than survivers.\n",
    "\n",
    "Now we know that woman have a higher chance of surviving and there is differences in the number of survivers between age groups. Does this tendency of more woman survivers apply to all age groups?"
   ]
  },
  {
   "cell_type": "code",
   "execution_count": 121,
   "metadata": {},
   "outputs": [
    {
     "data": {
      "text/plain": [
       "<matplotlib.legend.Legend at 0x14239fd0>"
      ]
     },
     "execution_count": 121,
     "metadata": {},
     "output_type": "execute_result"
    },
    {
     "data": {
      "image/png": "[encoded data removed]",
      "text/plain": [
       "<matplotlib.figure.Figure at 0xc16f518>"
      ]
     },
     "metadata": {},
     "output_type": "display_data"
    },
    {
     "data": {
      "image/png": "[encoded data removed]",
      "text/plain": [
       "<matplotlib.figure.Figure at 0xe255908>"
      ]
     },
     "metadata": {},
     "output_type": "display_data"
    }
   ],
   "source": [
    "group_by_sex_survivers = titanic_survivers_data.groupby('Sex')\n",
    "\n",
    "figure_2 = plt.figure()\n",
    "ax2 = figure_2.add_subplot(111)\n",
    "plt.title(\"Titanic survivers\")\n",
    "group_by_sex_survivers.get_group('female')['Age'].hist(alpha=0.5, bins=10, label = 'female', color = 'red')\n",
    "group_by_sex_survivers.get_group('male')['Age'].hist(alpha=0.5, bins=10, label='Male', color = 'blue')\n",
    "plt.legend()\n",
    "\n",
    "group_by_sex_non_survivers = titanic_non_survivers_data.groupby('Sex')\n",
    "\n",
    "figure_3 = plt.figure()\n",
    "ax3 = figure_3.add_subplot(111)\n",
    "plt.title(\"Titanic non survivers\")\n",
    "group_by_sex_non_survivers.get_group('male')['Age'].hist(alpha=0.5, bins=10, label='Male', color = 'blue')\n",
    "group_by_sex_non_survivers.get_group('female')['Age'].hist(alpha=0.5, bins=10, label = 'female', color = 'red')\n",
    "plt.legend()"
   ]
  },
  {
   "cell_type": "code",
   "execution_count": 120,
   "metadata": {},
   "outputs": [
    {
     "data": {
      "text/plain": [
       "<matplotlib.axes._subplots.AxesSubplot at 0x140befd0>"
      ]
     },
     "execution_count": 120,
     "metadata": {},
     "output_type": "execute_result"
    },
    {
     "data": {
      "image/png": "[encoded data removed]",
      "text/plain": [
       "<matplotlib.figure.Figure at 0x170bd550>"
      ]
     },
     "metadata": {},
     "output_type": "display_data"
    }
   ],
   "source": [
    "group_by_age = titanic_data.groupby([pd.cut(titanic_data['Age'], [0, 8, 18, 60, titanic_data['Age'].max()]), 'Survived', 'Sex'])\n",
    "group_by_age = group_by_age['Age'].count()\n",
    "\n",
    "group_by_age.plot.bar(color=['r', 'b', 'r', 'b', 'r', 'b', 'r', 'b', 'r', 'b','r', 'b', 'b', 'r', 'b'])"
   ]
  },
  {
   "cell_type": "markdown",
   "metadata": {},
   "source": [
    "Yes, we have more woman that survived for all age groups.\n",
    "\n",
    "#### 5) Are survivers from a distinct social class?"
   ]
  },
  {
   "cell_type": "code",
   "execution_count": 148,
   "metadata": {},
   "outputs": [
    {
     "data": {
      "text/plain": [
       "<matplotlib.axes._subplots.AxesSubplot at 0x1c410710>"
      ]
     },
     "execution_count": 148,
     "metadata": {},
     "output_type": "execute_result"
    },
    {
     "data": {
      "image/png": "[encoded data removed]",
      "text/plain": [
       "<matplotlib.figure.Figure at 0x1c18d4e0>"
      ]
     },
     "metadata": {},
     "output_type": "display_data"
    }
   ],
   "source": [
    "groupby_social_class = titanic_data.groupby(['Pclass', 'Survived'])\n",
    "groupby_social_class = groupby_social_class['Pclass'].count()\n",
    "groupby_social_class.plot.bar(color = ['black', 'blue'])"
   ]
  },
  {
   "cell_type": "markdown",
   "metadata": {},
   "source": [
    "From the graph above we can see that the first class had the biggest number of suvivers."
   ]
  },
  {
   "cell_type": "code",
   "execution_count": 152,
   "metadata": {},
   "outputs": [
    {
     "data": {
      "text/plain": [
       "<matplotlib.axes._subplots.AxesSubplot at 0x1df5aa58>"
      ]
     },
     "execution_count": 152,
     "metadata": {},
     "output_type": "execute_result"
    },
    {
     "data": {
      "image/png": "[encoded data removed]",
      "text/plain": [
       "<matplotlib.figure.Figure at 0x1b8f69e8>"
      ]
     },
     "metadata": {},
     "output_type": "display_data"
    },
    {
     "data": {
      "image/png": "[encoded data removed]",
      "text/plain": [
       "<matplotlib.figure.Figure at 0x1b8e86d8>"
      ]
     },
     "metadata": {},
     "output_type": "display_data"
    },
    {
     "data": {
      "image/png": "[encoded data removed]",
      "text/plain": [
       "<matplotlib.figure.Figure at 0x1ffa5470>"
      ]
     },
     "metadata": {},
     "output_type": "display_data"
    },
    {
     "data": {
      "image/png": "[encoded data removed]",
      "text/plain": [
       "<matplotlib.figure.Figure at 0x20638b00>"
      ]
     },
     "metadata": {},
     "output_type": "display_data"
    },
    {
     "data": {
      "image/png": "[encoded data removed]",
      "text/plain": [
       "<matplotlib.figure.Figure at 0x1b8e8470>"
      ]
     },
     "metadata": {},
     "output_type": "display_data"
    }
   ],
   "source": [
    "titanic_data['Fare'].hist(bins = 50)\n",
    "\n",
    "titanic_data.boxplot(column = 'Fare', by=['Survived'], sym='k.')\n",
    "\n",
    "titanic_data.groupby('Sex').boxplot(column = 'Fare', by=['Survived'], sym='k.')\n",
    "\n",
    "titanic_data.boxplot(column = 'Fare', by=['Survived', 'Pclass'],sym='k.')\n",
    "\n",
    "titanic_data.boxplot(column = 'Fare', by=['Survived', 'Pclass', 'Sex'],sym='k.', figsize=(16,9))"
   ]
  },
  {
   "cell_type": "markdown",
   "metadata": {},
   "source": [
    "The histogram above show us that fare has a positive distribution.\n",
    "\n",
    "The second and third box plots shows that the ones that survived have paid higher fares, that happened for woman and for man.\n",
    "\n",
    "On the Third graph, the diference is evident, between the ones that survived, most of the people are from first class.\n",
    "\n",
    "The fourth graph, Boxplot grouped by survived, Pclass and Sex, does not give more relevant information.\n",
    "\n",
    "#### 6) With part of the ship had more survivers?"
   ]
  },
  {
   "cell_type": "code",
   "execution_count": 155,
   "metadata": {},
   "outputs": [
    {
     "name": "stdout",
     "output_type": "stream",
     "text": [
      "Survived    0    1\n",
      "Embarked          \n",
      "C          51   79\n",
      "Q          20    8\n",
      "S         353  201\n",
      "          PassengerId\n",
      "Embarked             \n",
      "C                 130\n",
      "Q                  28\n",
      "S                 554\n"
     ]
    },
    {
     "data": {
      "text/plain": [
       "<matplotlib.axes._subplots.AxesSubplot at 0x22961f28>"
      ]
     },
     "execution_count": 155,
     "metadata": {},
     "output_type": "execute_result"
    },
    {
     "data": {
      "image/png": "[encoded data removed]",
      "text/plain": [
       "<matplotlib.figure.Figure at 0x21e625f8>"
      ]
     },
     "metadata": {},
     "output_type": "display_data"
    },
    {
     "data": {
      "image/png": "[encoded data removed]",
      "text/plain": [
       "<matplotlib.figure.Figure at 0x2268b780>"
      ]
     },
     "metadata": {},
     "output_type": "display_data"
    },
    {
     "data": {
      "image/png": "[encoded data removed]",
      "text/plain": [
       "<matplotlib.figure.Figure at 0x1a63f5f8>"
      ]
     },
     "metadata": {},
     "output_type": "display_data"
    }
   ],
   "source": [
    "print(titanic_data.pivot_table(values='PassengerId', index='Embarked', columns='Survived', aggfunc=len))\n",
    "print(titanic_data.pivot_table(values='PassengerId', index='Embarked', aggfunc=len))\n",
    "titanic_data.pivot_table(values='PassengerId', index='Embarked', columns='Survived',\n",
    "                         aggfunc=len).plot(kind='bar', color = ['black', 'blue'], title='Survivers grouped by Embarked')\n",
    "\n",
    "titanic_data.boxplot(column = 'Fare', by=['Survived', 'Embarked'])\n",
    "\n",
    "titanic_data.boxplot(column = 'Fare', by=['Embarked','Sex'])"
   ]
  },
  {
   "cell_type": "markdown",
   "metadata": {},
   "source": [
    "The bar plot Survivers grouped by Embarked tell us that most of the people embarked from S."
   ]
  },
  {
   "cell_type": "code",
   "execution_count": null,
   "metadata": {
    "collapsed": true
   },
   "outputs": [],
   "source": []
  }
 ],
 "metadata": {
  "anaconda-cloud": {},
  "kernelspec": {
   "display_name": "Python 2",
   "language": "python",
   "name": "python2"
  },
  "language_info": {
   "codemirror_mode": {
    "name": "ipython",
    "version": 2
   },
   "file_extension": ".py",
   "mimetype": "text/x-python",
   "name": "python",
   "nbconvert_exporter": "python",
   "pygments_lexer": "ipython2",
   "version": "2.7.13"
  }
 },
 "nbformat": 4,
 "nbformat_minor": 2
}
