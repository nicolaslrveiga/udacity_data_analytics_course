{
 "cells": [
  {
   "cell_type": "markdown",
   "metadata": {},
   "source": [
    "# Project P2\n",
    "### Contains my resolution of the second project from Data Analytics NanoDegree course.\n",
    "\n",
    "### Goal\n",
    "The goal for this notebook is to show a simple example of an analysis of the Titanic dataset in Python using Numpy and Pandas libraries.\n",
    "\n",
    "This notebook starts exploring the header of the dataset, showing with variables we have. \n",
    "\n",
    "The next step presents questions that were formulated based on the variables presented on the dataset.\n",
    "\n",
    "Our analysis starts looking at the data we have, each variable is going to be explored. Data exploration is going to result in a deeper knoledge of ours variables, we are going to have a notion of with variable we can use and with one needs treatment before it can be used.\n",
    "\n",
    "On the Data Wrangler section we will treat the variables that were analyzed on the previous section. The dataset is going to be cleaned and values without data are going to be handled.\n",
    "\n",
    "The last section is called Exploration, here all the guestions formulated are going to be answered using statistics and graphs.\n",
    "\n",
    "### Data Exploration\n",
    "#### Data Dictionary\n",
    "\n",
    "|Variable|\tDefinition|\n",
    "|--------|------------|\n",
    "|survival|\tSurvival  |\t\n",
    "|pclass\t |Ticket class|\n",
    "|sex\t |Sex         |\t\n",
    "|Age\t|Age in years |\n",
    "|sibsp\t|# of siblings | / spouses aboard the Titanic\n",
    "|parch\t|# of parents | / children aboard the Titanic\n",
    "|ticket\t|Ticket number|\n",
    "|fare\t|Passenger fare|\n",
    "|cabin\t|Cabin number|\t\n",
    "|embarked\t|Port of Embarkation|\n",
    "\n",
    "#### Variable Notes\n",
    "\n",
    "C = Cherbourg, Q = Queenstown, S = Southampton\n",
    "\n",
    "0 = No, 1 = Yes\n",
    "\n",
    "1 = 1st, 2 = 2nd, 3 = 3rd\n",
    "\n",
    "pclass: A proxy for socio-economic status (SES)\n",
    "\n",
    "1st = Upper\n",
    "2nd = Middle\n",
    "3rd = Lower\n",
    "\n",
    "age: Age is fractional if less than 1. If the age is estimated, is it in the form of xx.5\n",
    "\n",
    "sibsp: The dataset defines family relations in this way...\n",
    "Sibling = brother, sister, stepbrother, stepsister\n",
    "Spouse = husband, wife (mistresses and fiancés were ignored)\n",
    "\n",
    "parch: The dataset defines family relations in this way...\n",
    "Parent = mother, father\n",
    "Child = daughter, son, stepdaughter, stepson\n",
    "Some children travelled only with a nanny, therefore parch=0 for them.\n",
    "\n",
    "### Questions that are going to be answered:\n",
    " 1) How many passengers that survived?\n",
    " \n",
    " 2) From with gender are most of the survivers?\n",
    " \n",
    " 3) From with age group are most of the survivers?\n",
    " \n",
    " 4) Does your chances of survive increase if you have a relative on board?\n",
    " \n",
    " 5) Are survivers from a distinct social class?\n",
    " \n",
    " 6) Were most of the survivors embarked from?\n",
    " \n",
    "Taking a look at the data and some statistics"
   ]
  },
  {
   "cell_type": "code",
   "execution_count": 1,
   "metadata": {},
   "outputs": [
    {
     "data": {
      "text/html": [
       "<div>\n",
       "<style>\n",
       "    .dataframe thead tr:only-child th {\n",
       "        text-align: right;\n",
       "    }\n",
       "\n",
       "    .dataframe thead th {\n",
       "        text-align: left;\n",
       "    }\n",
       "\n",
       "    .dataframe tbody tr th {\n",
       "        vertical-align: top;\n",
       "    }\n",
       "</style>\n",
       "<table border=\"1\" class=\"dataframe\">\n",
       "  <thead>\n",
       "    <tr style=\"text-align: right;\">\n",
       "      <th></th>\n",
       "      <th>PassengerId</th>\n",
       "      <th>Survived</th>\n",
       "      <th>Pclass</th>\n",
       "      <th>Name</th>\n",
       "      <th>Sex</th>\n",
       "      <th>Age</th>\n",
       "      <th>SibSp</th>\n",
       "      <th>Parch</th>\n",
       "      <th>Ticket</th>\n",
       "      <th>Fare</th>\n",
       "      <th>Cabin</th>\n",
       "      <th>Embarked</th>\n",
       "    </tr>\n",
       "  </thead>\n",
       "  <tbody>\n",
       "    <tr>\n",
       "      <th>0</th>\n",
       "      <td>1</td>\n",
       "      <td>0</td>\n",
       "      <td>3</td>\n",
       "      <td>Braund, Mr. Owen Harris</td>\n",
       "      <td>male</td>\n",
       "      <td>22.0</td>\n",
       "      <td>1</td>\n",
       "      <td>0</td>\n",
       "      <td>A/5 21171</td>\n",
       "      <td>7.2500</td>\n",
       "      <td>NaN</td>\n",
       "      <td>S</td>\n",
       "    </tr>\n",
       "    <tr>\n",
       "      <th>1</th>\n",
       "      <td>2</td>\n",
       "      <td>1</td>\n",
       "      <td>1</td>\n",
       "      <td>Cumings, Mrs. John Bradley (Florence Briggs Th...</td>\n",
       "      <td>female</td>\n",
       "      <td>38.0</td>\n",
       "      <td>1</td>\n",
       "      <td>0</td>\n",
       "      <td>PC 17599</td>\n",
       "      <td>71.2833</td>\n",
       "      <td>C85</td>\n",
       "      <td>C</td>\n",
       "    </tr>\n",
       "    <tr>\n",
       "      <th>2</th>\n",
       "      <td>3</td>\n",
       "      <td>1</td>\n",
       "      <td>3</td>\n",
       "      <td>Heikkinen, Miss. Laina</td>\n",
       "      <td>female</td>\n",
       "      <td>26.0</td>\n",
       "      <td>0</td>\n",
       "      <td>0</td>\n",
       "      <td>STON/O2. 3101282</td>\n",
       "      <td>7.9250</td>\n",
       "      <td>NaN</td>\n",
       "      <td>S</td>\n",
       "    </tr>\n",
       "    <tr>\n",
       "      <th>3</th>\n",
       "      <td>4</td>\n",
       "      <td>1</td>\n",
       "      <td>1</td>\n",
       "      <td>Futrelle, Mrs. Jacques Heath (Lily May Peel)</td>\n",
       "      <td>female</td>\n",
       "      <td>35.0</td>\n",
       "      <td>1</td>\n",
       "      <td>0</td>\n",
       "      <td>113803</td>\n",
       "      <td>53.1000</td>\n",
       "      <td>C123</td>\n",
       "      <td>S</td>\n",
       "    </tr>\n",
       "    <tr>\n",
       "      <th>4</th>\n",
       "      <td>5</td>\n",
       "      <td>0</td>\n",
       "      <td>3</td>\n",
       "      <td>Allen, Mr. William Henry</td>\n",
       "      <td>male</td>\n",
       "      <td>35.0</td>\n",
       "      <td>0</td>\n",
       "      <td>0</td>\n",
       "      <td>373450</td>\n",
       "      <td>8.0500</td>\n",
       "      <td>NaN</td>\n",
       "      <td>S</td>\n",
       "    </tr>\n",
       "  </tbody>\n",
       "</table>\n",
       "</div>"
      ],
      "text/plain": [
       "   PassengerId  Survived  Pclass  \\\n",
       "0            1         0       3   \n",
       "1            2         1       1   \n",
       "2            3         1       3   \n",
       "3            4         1       1   \n",
       "4            5         0       3   \n",
       "\n",
       "                                                Name     Sex   Age  SibSp  \\\n",
       "0                            Braund, Mr. Owen Harris    male  22.0      1   \n",
       "1  Cumings, Mrs. John Bradley (Florence Briggs Th...  female  38.0      1   \n",
       "2                             Heikkinen, Miss. Laina  female  26.0      0   \n",
       "3       Futrelle, Mrs. Jacques Heath (Lily May Peel)  female  35.0      1   \n",
       "4                           Allen, Mr. William Henry    male  35.0      0   \n",
       "\n",
       "   Parch            Ticket     Fare Cabin Embarked  \n",
       "0      0         A/5 21171   7.2500   NaN        S  \n",
       "1      0          PC 17599  71.2833   C85        C  \n",
       "2      0  STON/O2. 3101282   7.9250   NaN        S  \n",
       "3      0            113803  53.1000  C123        S  \n",
       "4      0            373450   8.0500   NaN        S  "
      ]
     },
     "execution_count": 1,
     "metadata": {},
     "output_type": "execute_result"
    }
   ],
   "source": [
    "import pandas as pd\n",
    "import numpy as np\n",
    "import matplotlib.pyplot as plt\n",
    "import seaborn as sb\n",
    "%matplotlib inline\n",
    "titanic_data = pd.read_csv('titanic_data.csv')\n",
    "titanic_data.head()"
   ]
  },
  {
   "cell_type": "code",
   "execution_count": 2,
   "metadata": {},
   "outputs": [
    {
     "data": {
      "text/html": [
       "<div>\n",
       "<style>\n",
       "    .dataframe thead tr:only-child th {\n",
       "        text-align: right;\n",
       "    }\n",
       "\n",
       "    .dataframe thead th {\n",
       "        text-align: left;\n",
       "    }\n",
       "\n",
       "    .dataframe tbody tr th {\n",
       "        vertical-align: top;\n",
       "    }\n",
       "</style>\n",
       "<table border=\"1\" class=\"dataframe\">\n",
       "  <thead>\n",
       "    <tr style=\"text-align: right;\">\n",
       "      <th></th>\n",
       "      <th>PassengerId</th>\n",
       "      <th>Survived</th>\n",
       "      <th>Pclass</th>\n",
       "      <th>Age</th>\n",
       "      <th>SibSp</th>\n",
       "      <th>Parch</th>\n",
       "      <th>Fare</th>\n",
       "    </tr>\n",
       "  </thead>\n",
       "  <tbody>\n",
       "    <tr>\n",
       "      <th>count</th>\n",
       "      <td>891.000000</td>\n",
       "      <td>891.000000</td>\n",
       "      <td>891.000000</td>\n",
       "      <td>714.000000</td>\n",
       "      <td>891.000000</td>\n",
       "      <td>891.000000</td>\n",
       "      <td>891.000000</td>\n",
       "    </tr>\n",
       "    <tr>\n",
       "      <th>mean</th>\n",
       "      <td>446.000000</td>\n",
       "      <td>0.383838</td>\n",
       "      <td>2.308642</td>\n",
       "      <td>29.699118</td>\n",
       "      <td>0.523008</td>\n",
       "      <td>0.381594</td>\n",
       "      <td>32.204208</td>\n",
       "    </tr>\n",
       "    <tr>\n",
       "      <th>std</th>\n",
       "      <td>257.353842</td>\n",
       "      <td>0.486592</td>\n",
       "      <td>0.836071</td>\n",
       "      <td>14.526497</td>\n",
       "      <td>1.102743</td>\n",
       "      <td>0.806057</td>\n",
       "      <td>49.693429</td>\n",
       "    </tr>\n",
       "    <tr>\n",
       "      <th>min</th>\n",
       "      <td>1.000000</td>\n",
       "      <td>0.000000</td>\n",
       "      <td>1.000000</td>\n",
       "      <td>0.420000</td>\n",
       "      <td>0.000000</td>\n",
       "      <td>0.000000</td>\n",
       "      <td>0.000000</td>\n",
       "    </tr>\n",
       "    <tr>\n",
       "      <th>25%</th>\n",
       "      <td>223.500000</td>\n",
       "      <td>0.000000</td>\n",
       "      <td>2.000000</td>\n",
       "      <td>20.125000</td>\n",
       "      <td>0.000000</td>\n",
       "      <td>0.000000</td>\n",
       "      <td>7.910400</td>\n",
       "    </tr>\n",
       "    <tr>\n",
       "      <th>50%</th>\n",
       "      <td>446.000000</td>\n",
       "      <td>0.000000</td>\n",
       "      <td>3.000000</td>\n",
       "      <td>28.000000</td>\n",
       "      <td>0.000000</td>\n",
       "      <td>0.000000</td>\n",
       "      <td>14.454200</td>\n",
       "    </tr>\n",
       "    <tr>\n",
       "      <th>75%</th>\n",
       "      <td>668.500000</td>\n",
       "      <td>1.000000</td>\n",
       "      <td>3.000000</td>\n",
       "      <td>38.000000</td>\n",
       "      <td>1.000000</td>\n",
       "      <td>0.000000</td>\n",
       "      <td>31.000000</td>\n",
       "    </tr>\n",
       "    <tr>\n",
       "      <th>max</th>\n",
       "      <td>891.000000</td>\n",
       "      <td>1.000000</td>\n",
       "      <td>3.000000</td>\n",
       "      <td>80.000000</td>\n",
       "      <td>8.000000</td>\n",
       "      <td>6.000000</td>\n",
       "      <td>512.329200</td>\n",
       "    </tr>\n",
       "  </tbody>\n",
       "</table>\n",
       "</div>"
      ],
      "text/plain": [
       "       PassengerId    Survived      Pclass         Age       SibSp  \\\n",
       "count   891.000000  891.000000  891.000000  714.000000  891.000000   \n",
       "mean    446.000000    0.383838    2.308642   29.699118    0.523008   \n",
       "std     257.353842    0.486592    0.836071   14.526497    1.102743   \n",
       "min       1.000000    0.000000    1.000000    0.420000    0.000000   \n",
       "25%     223.500000    0.000000    2.000000   20.125000    0.000000   \n",
       "50%     446.000000    0.000000    3.000000   28.000000    0.000000   \n",
       "75%     668.500000    1.000000    3.000000   38.000000    1.000000   \n",
       "max     891.000000    1.000000    3.000000   80.000000    8.000000   \n",
       "\n",
       "            Parch        Fare  \n",
       "count  891.000000  891.000000  \n",
       "mean     0.381594   32.204208  \n",
       "std      0.806057   49.693429  \n",
       "min      0.000000    0.000000  \n",
       "25%      0.000000    7.910400  \n",
       "50%      0.000000   14.454200  \n",
       "75%      0.000000   31.000000  \n",
       "max      6.000000  512.329200  "
      ]
     },
     "execution_count": 2,
     "metadata": {},
     "output_type": "execute_result"
    }
   ],
   "source": [
    "titanic_data.describe()"
   ]
  },
  {
   "cell_type": "markdown",
   "metadata": {},
   "source": [
    "Size of the dataset:"
   ]
  },
  {
   "cell_type": "code",
   "execution_count": 3,
   "metadata": {},
   "outputs": [
    {
     "data": {
      "text/plain": [
       "891"
      ]
     },
     "execution_count": 3,
     "metadata": {},
     "output_type": "execute_result"
    }
   ],
   "source": [
    "len(titanic_data)"
   ]
  },
  {
   "cell_type": "markdown",
   "metadata": {},
   "source": [
    "Analysing variables Ticket and Cabin:"
   ]
  },
  {
   "cell_type": "code",
   "execution_count": 4,
   "metadata": {},
   "outputs": [
    {
     "data": {
      "text/plain": [
       "0             A/5 21171\n",
       "1              PC 17599\n",
       "2      STON/O2. 3101282\n",
       "3                113803\n",
       "4                373450\n",
       "5                330877\n",
       "6                 17463\n",
       "7                349909\n",
       "8                347742\n",
       "9                237736\n",
       "10              PP 9549\n",
       "11               113783\n",
       "12            A/5. 2151\n",
       "13               347082\n",
       "14               350406\n",
       "15               248706\n",
       "16               382652\n",
       "17               244373\n",
       "18               345763\n",
       "19                 2649\n",
       "20               239865\n",
       "21               248698\n",
       "22               330923\n",
       "23               113788\n",
       "24               349909\n",
       "25               347077\n",
       "26                 2631\n",
       "27                19950\n",
       "28               330959\n",
       "29               349216\n",
       "             ...       \n",
       "861               28134\n",
       "862               17466\n",
       "863            CA. 2343\n",
       "864              233866\n",
       "865              236852\n",
       "866       SC/PARIS 2149\n",
       "867            PC 17590\n",
       "868              345777\n",
       "869              347742\n",
       "870              349248\n",
       "871               11751\n",
       "872                 695\n",
       "873              345765\n",
       "874           P/PP 3381\n",
       "875                2667\n",
       "876                7534\n",
       "877              349212\n",
       "878              349217\n",
       "879               11767\n",
       "880              230433\n",
       "881              349257\n",
       "882                7552\n",
       "883    C.A./SOTON 34068\n",
       "884     SOTON/OQ 392076\n",
       "885              382652\n",
       "886              211536\n",
       "887              112053\n",
       "888          W./C. 6607\n",
       "889              111369\n",
       "890              370376\n",
       "Name: Ticket, Length: 891, dtype: object"
      ]
     },
     "execution_count": 4,
     "metadata": {},
     "output_type": "execute_result"
    }
   ],
   "source": [
    "titanic_data['Ticket']"
   ]
  },
  {
   "cell_type": "code",
   "execution_count": 5,
   "metadata": {},
   "outputs": [
    {
     "data": {
      "text/plain": [
       "0              NaN\n",
       "1              C85\n",
       "2              NaN\n",
       "3             C123\n",
       "4              NaN\n",
       "5              NaN\n",
       "6              E46\n",
       "7              NaN\n",
       "8              NaN\n",
       "9              NaN\n",
       "10              G6\n",
       "11            C103\n",
       "12             NaN\n",
       "13             NaN\n",
       "14             NaN\n",
       "15             NaN\n",
       "16             NaN\n",
       "17             NaN\n",
       "18             NaN\n",
       "19             NaN\n",
       "20             NaN\n",
       "21             D56\n",
       "22             NaN\n",
       "23              A6\n",
       "24             NaN\n",
       "25             NaN\n",
       "26             NaN\n",
       "27     C23 C25 C27\n",
       "28             NaN\n",
       "29             NaN\n",
       "          ...     \n",
       "861            NaN\n",
       "862            D17\n",
       "863            NaN\n",
       "864            NaN\n",
       "865            NaN\n",
       "866            NaN\n",
       "867            A24\n",
       "868            NaN\n",
       "869            NaN\n",
       "870            NaN\n",
       "871            D35\n",
       "872    B51 B53 B55\n",
       "873            NaN\n",
       "874            NaN\n",
       "875            NaN\n",
       "876            NaN\n",
       "877            NaN\n",
       "878            NaN\n",
       "879            C50\n",
       "880            NaN\n",
       "881            NaN\n",
       "882            NaN\n",
       "883            NaN\n",
       "884            NaN\n",
       "885            NaN\n",
       "886            NaN\n",
       "887            B42\n",
       "888            NaN\n",
       "889           C148\n",
       "890            NaN\n",
       "Name: Cabin, Length: 891, dtype: object"
      ]
     },
     "execution_count": 5,
     "metadata": {},
     "output_type": "execute_result"
    }
   ],
   "source": [
    "titanic_data['Cabin']"
   ]
  },
  {
   "cell_type": "markdown",
   "metadata": {},
   "source": [
    "How many invalid values on Cabin variable?"
   ]
  },
  {
   "cell_type": "code",
   "execution_count": 6,
   "metadata": {},
   "outputs": [
    {
     "name": "stdout",
     "output_type": "stream",
     "text": [
      "687\n"
     ]
    }
   ],
   "source": [
    "print(len(titanic_data.loc[titanic_data['Cabin'].isnull() == True]))"
   ]
  },
  {
   "cell_type": "markdown",
   "metadata": {},
   "source": [
    "With Variables have invalid data?"
   ]
  },
  {
   "cell_type": "code",
   "execution_count": 7,
   "metadata": {},
   "outputs": [
    {
     "data": {
      "text/plain": [
       "<bound method Series.any of PassengerId    False\n",
       "Survived       False\n",
       "Pclass         False\n",
       "Name           False\n",
       "Sex            False\n",
       "Age             True\n",
       "SibSp          False\n",
       "Parch          False\n",
       "Ticket         False\n",
       "Fare           False\n",
       "Cabin           True\n",
       "Embarked        True\n",
       "dtype: bool>"
      ]
     },
     "execution_count": 7,
     "metadata": {},
     "output_type": "execute_result"
    }
   ],
   "source": [
    "titanic_data.isnull().any().any"
   ]
  },
  {
   "cell_type": "markdown",
   "metadata": {},
   "source": [
    "From the table above, Age and Embarked also have invalid data, how many?"
   ]
  },
  {
   "cell_type": "code",
   "execution_count": 8,
   "metadata": {},
   "outputs": [
    {
     "name": "stdout",
     "output_type": "stream",
     "text": [
      "177\n"
     ]
    }
   ],
   "source": [
    "print(len(titanic_data.loc[titanic_data['Age'].isnull() == True]))"
   ]
  },
  {
   "cell_type": "code",
   "execution_count": 9,
   "metadata": {},
   "outputs": [
    {
     "name": "stdout",
     "output_type": "stream",
     "text": [
      "2\n"
     ]
    }
   ],
   "source": [
    "print(len(titanic_data.loc[titanic_data['Embarked'].isnull() == True]))"
   ]
  },
  {
   "cell_type": "markdown",
   "metadata": {},
   "source": [
    "Good variables to explore are Survived, Pclass, Name, Sex, Age, SibSp, Parch, Fare and Embarker. The Variables Ticked seens to be useless and Cabin has to many NaN"
   ]
  },
  {
   "cell_type": "markdown",
   "metadata": {},
   "source": [
    "### Data Wrangler"
   ]
  },
  {
   "cell_type": "markdown",
   "metadata": {},
   "source": [
    "1 - Removing data that is not going to be used. Collumns Name, Ticked and Cabin\n",
    "    Since we have information if someone has a parent or spouse on board we do not have to deal with the variable Name. We could split and categorize in surname or titles."
   ]
  },
  {
   "cell_type": "code",
   "execution_count": 10,
   "metadata": {},
   "outputs": [
    {
     "data": {
      "text/html": [
       "<div>\n",
       "<style>\n",
       "    .dataframe thead tr:only-child th {\n",
       "        text-align: right;\n",
       "    }\n",
       "\n",
       "    .dataframe thead th {\n",
       "        text-align: left;\n",
       "    }\n",
       "\n",
       "    .dataframe tbody tr th {\n",
       "        vertical-align: top;\n",
       "    }\n",
       "</style>\n",
       "<table border=\"1\" class=\"dataframe\">\n",
       "  <thead>\n",
       "    <tr style=\"text-align: right;\">\n",
       "      <th></th>\n",
       "      <th>PassengerId</th>\n",
       "      <th>Survived</th>\n",
       "      <th>Pclass</th>\n",
       "      <th>Sex</th>\n",
       "      <th>Age</th>\n",
       "      <th>SibSp</th>\n",
       "      <th>Parch</th>\n",
       "      <th>Fare</th>\n",
       "      <th>Embarked</th>\n",
       "    </tr>\n",
       "  </thead>\n",
       "  <tbody>\n",
       "    <tr>\n",
       "      <th>0</th>\n",
       "      <td>1</td>\n",
       "      <td>0</td>\n",
       "      <td>3</td>\n",
       "      <td>male</td>\n",
       "      <td>22.0</td>\n",
       "      <td>1</td>\n",
       "      <td>0</td>\n",
       "      <td>7.2500</td>\n",
       "      <td>S</td>\n",
       "    </tr>\n",
       "    <tr>\n",
       "      <th>1</th>\n",
       "      <td>2</td>\n",
       "      <td>1</td>\n",
       "      <td>1</td>\n",
       "      <td>female</td>\n",
       "      <td>38.0</td>\n",
       "      <td>1</td>\n",
       "      <td>0</td>\n",
       "      <td>71.2833</td>\n",
       "      <td>C</td>\n",
       "    </tr>\n",
       "    <tr>\n",
       "      <th>2</th>\n",
       "      <td>3</td>\n",
       "      <td>1</td>\n",
       "      <td>3</td>\n",
       "      <td>female</td>\n",
       "      <td>26.0</td>\n",
       "      <td>0</td>\n",
       "      <td>0</td>\n",
       "      <td>7.9250</td>\n",
       "      <td>S</td>\n",
       "    </tr>\n",
       "    <tr>\n",
       "      <th>3</th>\n",
       "      <td>4</td>\n",
       "      <td>1</td>\n",
       "      <td>1</td>\n",
       "      <td>female</td>\n",
       "      <td>35.0</td>\n",
       "      <td>1</td>\n",
       "      <td>0</td>\n",
       "      <td>53.1000</td>\n",
       "      <td>S</td>\n",
       "    </tr>\n",
       "    <tr>\n",
       "      <th>4</th>\n",
       "      <td>5</td>\n",
       "      <td>0</td>\n",
       "      <td>3</td>\n",
       "      <td>male</td>\n",
       "      <td>35.0</td>\n",
       "      <td>0</td>\n",
       "      <td>0</td>\n",
       "      <td>8.0500</td>\n",
       "      <td>S</td>\n",
       "    </tr>\n",
       "  </tbody>\n",
       "</table>\n",
       "</div>"
      ],
      "text/plain": [
       "   PassengerId  Survived  Pclass     Sex   Age  SibSp  Parch     Fare Embarked\n",
       "0            1         0       3    male  22.0      1      0   7.2500        S\n",
       "1            2         1       1  female  38.0      1      0  71.2833        C\n",
       "2            3         1       3  female  26.0      0      0   7.9250        S\n",
       "3            4         1       1  female  35.0      1      0  53.1000        S\n",
       "4            5         0       3    male  35.0      0      0   8.0500        S"
      ]
     },
     "execution_count": 10,
     "metadata": {},
     "output_type": "execute_result"
    }
   ],
   "source": [
    "titanic_data.drop(['Name', 'Ticket', 'Cabin'], axis = 1, inplace = True)\n",
    "titanic_data.head()"
   ]
  },
  {
   "cell_type": "markdown",
   "metadata": {},
   "source": [
    "2 - Dealing with nulls"
   ]
  },
  {
   "cell_type": "code",
   "execution_count": 11,
   "metadata": {},
   "outputs": [
    {
     "name": "stdout",
     "output_type": "stream",
     "text": [
      "     PassengerId  Survived  Pclass     Sex  Age  SibSp  Parch      Fare  \\\n",
      "5              6         0       3    male  NaN      0      0    8.4583   \n",
      "17            18         1       2    male  NaN      0      0   13.0000   \n",
      "19            20         1       3  female  NaN      0      0    7.2250   \n",
      "26            27         0       3    male  NaN      0      0    7.2250   \n",
      "28            29         1       3  female  NaN      0      0    7.8792   \n",
      "29            30         0       3    male  NaN      0      0    7.8958   \n",
      "31            32         1       1  female  NaN      1      0  146.5208   \n",
      "32            33         1       3  female  NaN      0      0    7.7500   \n",
      "36            37         1       3    male  NaN      0      0    7.2292   \n",
      "42            43         0       3    male  NaN      0      0    7.8958   \n",
      "45            46         0       3    male  NaN      0      0    8.0500   \n",
      "46            47         0       3    male  NaN      1      0   15.5000   \n",
      "47            48         1       3  female  NaN      0      0    7.7500   \n",
      "48            49         0       3    male  NaN      2      0   21.6792   \n",
      "55            56         1       1    male  NaN      0      0   35.5000   \n",
      "64            65         0       1    male  NaN      0      0   27.7208   \n",
      "65            66         1       3    male  NaN      1      1   15.2458   \n",
      "76            77         0       3    male  NaN      0      0    7.8958   \n",
      "77            78         0       3    male  NaN      0      0    8.0500   \n",
      "82            83         1       3  female  NaN      0      0    7.7875   \n",
      "87            88         0       3    male  NaN      0      0    8.0500   \n",
      "95            96         0       3    male  NaN      0      0    8.0500   \n",
      "101          102         0       3    male  NaN      0      0    7.8958   \n",
      "107          108         1       3    male  NaN      0      0    7.7750   \n",
      "109          110         1       3  female  NaN      1      0   24.1500   \n",
      "121          122         0       3    male  NaN      0      0    8.0500   \n",
      "126          127         0       3    male  NaN      0      0    7.7500   \n",
      "128          129         1       3  female  NaN      1      1   22.3583   \n",
      "140          141         0       3  female  NaN      0      2   15.2458   \n",
      "154          155         0       3    male  NaN      0      0    7.3125   \n",
      "..           ...       ...     ...     ...  ...    ...    ...       ...   \n",
      "718          719         0       3    male  NaN      0      0   15.5000   \n",
      "727          728         1       3  female  NaN      0      0    7.7375   \n",
      "732          733         0       2    male  NaN      0      0    0.0000   \n",
      "738          739         0       3    male  NaN      0      0    7.8958   \n",
      "739          740         0       3    male  NaN      0      0    7.8958   \n",
      "740          741         1       1    male  NaN      0      0   30.0000   \n",
      "760          761         0       3    male  NaN      0      0   14.5000   \n",
      "766          767         0       1    male  NaN      0      0   39.6000   \n",
      "768          769         0       3    male  NaN      1      0   24.1500   \n",
      "773          774         0       3    male  NaN      0      0    7.2250   \n",
      "776          777         0       3    male  NaN      0      0    7.7500   \n",
      "778          779         0       3    male  NaN      0      0    7.7375   \n",
      "783          784         0       3    male  NaN      1      2   23.4500   \n",
      "790          791         0       3    male  NaN      0      0    7.7500   \n",
      "792          793         0       3  female  NaN      8      2   69.5500   \n",
      "793          794         0       1    male  NaN      0      0   30.6958   \n",
      "815          816         0       1    male  NaN      0      0    0.0000   \n",
      "825          826         0       3    male  NaN      0      0    6.9500   \n",
      "826          827         0       3    male  NaN      0      0   56.4958   \n",
      "828          829         1       3    male  NaN      0      0    7.7500   \n",
      "832          833         0       3    male  NaN      0      0    7.2292   \n",
      "837          838         0       3    male  NaN      0      0    8.0500   \n",
      "839          840         1       1    male  NaN      0      0   29.7000   \n",
      "846          847         0       3    male  NaN      8      2   69.5500   \n",
      "849          850         1       1  female  NaN      1      0   89.1042   \n",
      "859          860         0       3    male  NaN      0      0    7.2292   \n",
      "863          864         0       3  female  NaN      8      2   69.5500   \n",
      "868          869         0       3    male  NaN      0      0    9.5000   \n",
      "878          879         0       3    male  NaN      0      0    7.8958   \n",
      "888          889         0       3  female  NaN      1      2   23.4500   \n",
      "\n",
      "    Embarked  \n",
      "5          Q  \n",
      "17         S  \n",
      "19         C  \n",
      "26         C  \n",
      "28         Q  \n",
      "29         S  \n",
      "31         C  \n",
      "32         Q  \n",
      "36         C  \n",
      "42         C  \n",
      "45         S  \n",
      "46         Q  \n",
      "47         Q  \n",
      "48         C  \n",
      "55         S  \n",
      "64         C  \n",
      "65         C  \n",
      "76         S  \n",
      "77         S  \n",
      "82         Q  \n",
      "87         S  \n",
      "95         S  \n",
      "101        S  \n",
      "107        S  \n",
      "109        Q  \n",
      "121        S  \n",
      "126        Q  \n",
      "128        C  \n",
      "140        C  \n",
      "154        S  \n",
      "..       ...  \n",
      "718        Q  \n",
      "727        Q  \n",
      "732        S  \n",
      "738        S  \n",
      "739        S  \n",
      "740        S  \n",
      "760        S  \n",
      "766        C  \n",
      "768        Q  \n",
      "773        C  \n",
      "776        Q  \n",
      "778        Q  \n",
      "783        S  \n",
      "790        Q  \n",
      "792        S  \n",
      "793        C  \n",
      "815        S  \n",
      "825        Q  \n",
      "826        S  \n",
      "828        Q  \n",
      "832        C  \n",
      "837        S  \n",
      "839        C  \n",
      "846        S  \n",
      "849        C  \n",
      "859        C  \n",
      "863        S  \n",
      "868        S  \n",
      "878        S  \n",
      "888        S  \n",
      "\n",
      "[177 rows x 9 columns]\n"
     ]
    }
   ],
   "source": [
    "index_is_age_nan = titanic_data.index[titanic_data['Age'].isnull()]\n",
    "print(titanic_data.iloc[index_is_age_nan])"
   ]
  },
  {
   "cell_type": "code",
   "execution_count": 12,
   "metadata": {},
   "outputs": [
    {
     "name": "stdout",
     "output_type": "stream",
     "text": [
      "     PassengerId  Survived  Pclass     Sex   Age  SibSp  Parch  Fare Embarked\n",
      "61            62         1       1  female  38.0      0      0  80.0      NaN\n",
      "829          830         1       1  female  62.0      0      0  80.0      NaN\n"
     ]
    }
   ],
   "source": [
    "index_is_embarked_nan = titanic_data.index[titanic_data['Embarked'].isnull()]\n",
    "print(titanic_data.iloc[index_is_embarked_nan])"
   ]
  },
  {
   "cell_type": "markdown",
   "metadata": {},
   "source": [
    "Going to keep the rows with NaN for now, they can still be used to compute same statistics. This rows are going to be removed from the dataset, that is going to happen on question 3 and forward."
   ]
  },
  {
   "cell_type": "markdown",
   "metadata": {},
   "source": [
    "### Explore\n",
    "#### 1) How many passengers did survive?"
   ]
  },
  {
   "cell_type": "code",
   "execution_count": 13,
   "metadata": {},
   "outputs": [
    {
     "name": "stdout",
     "output_type": "stream",
     "text": [
      "from 891, 342 survived\n"
     ]
    }
   ],
   "source": [
    "print(\"from %d, %d survived\" %(len(titanic_data) ,titanic_data['Survived'].sum()))"
   ]
  },
  {
   "cell_type": "markdown",
   "metadata": {},
   "source": [
    "#### 2) From with gender are most of the survivers?"
   ]
  },
  {
   "cell_type": "code",
   "execution_count": 14,
   "metadata": {},
   "outputs": [
    {
     "name": "stdout",
     "output_type": "stream",
     "text": [
      "Sex       female  male\n",
      "Survived              \n",
      "0             81   468\n",
      "1            233   109\n"
     ]
    },
    {
     "data": {
      "text/plain": [
       "<matplotlib.text.Text at 0xc0aa630>"
      ]
     },
     "execution_count": 14,
     "metadata": {},
     "output_type": "execute_result"
    },
    {
     "data": {
      "image/png": "[encoded data removed]",
      "text/plain": [
       "<matplotlib.figure.Figure at 0xbc64f60>"
      ]
     },
     "metadata": {},
     "output_type": "display_data"
    }
   ],
   "source": [
    "print(titanic_data.pivot_table(values='PassengerId', index='Survived', columns='Sex', aggfunc=len))\n",
    "titanic_data.pivot_table(values='PassengerId', index='Survived', columns='Sex', aggfunc=len).plot.bar(\n",
    "    color=['red', 'blue'], title = 'Amount of survivers and non surviver by gender')\n",
    "plt.ylabel('Frequency')"
   ]
  },
  {
   "cell_type": "markdown",
   "metadata": {},
   "source": [
    "If you were a woman you had a total 233 / 891 = 0,262 chance of surviving overall and a 233/(233+81) = 0,742 chance between the woman.\n",
    "If you were a man you had a total 109 / 891 = 0,122 chance of surviving overall and a 109/(109+468) = 0,189 chance between the man.\n",
    "\n",
    "#### 3) From with age group are most of the survivers?\n",
    "Plotting histogram with both survivers and non-survivers data grouped by age. Since we are dealing with variable Age, we have to remove the values with invalid entries."
   ]
  },
  {
   "cell_type": "code",
   "execution_count": 16,
   "metadata": {},
   "outputs": [
    {
     "data": {
      "text/plain": [
       "<matplotlib.text.Text at 0xc047b00>"
      ]
     },
     "execution_count": 16,
     "metadata": {},
     "output_type": "execute_result"
    },
    {
     "data": {
      "image/png": "[encoded data removed]",
      "text/plain": [
       "<matplotlib.figure.Figure at 0xc2804a8>"
      ]
     },
     "metadata": {},
     "output_type": "display_data"
    }
   ],
   "source": [
    "titanic_survivers_data = titanic_data.iloc[titanic_data.index[titanic_data['Survived'] == 1]]\n",
    "titanic_non_survivers_data = titanic_data.iloc[titanic_data.index[titanic_data['Survived'] == 0]]\n",
    "\n",
    "#removing NaN and plotting histogram\n",
    "index_is_age_nan = titanic_survivers_data.index[titanic_survivers_data['Age'].isnull()]\n",
    "titanic_survivers_data = titanic_survivers_data.drop(index_is_age_nan)\n",
    "titanic_survivers_data['Age'].hist(alpha=0.5, color='blue', label = 'survivers')\n",
    "\n",
    "index_is_age_nan = titanic_non_survivers_data.index[titanic_non_survivers_data['Age'].isnull()]\n",
    "titanic_non_survivers_data = titanic_non_survivers_data.drop(index_is_age_nan)\n",
    "titanic_non_survivers_data['Age'].hist(alpha = 0.5, color = 'black', label='non survivers')\n",
    "\n",
    "plt.legend()\n",
    "plt.title(\"Titanic survivers and non survivers\")\n",
    "plt.ylabel('Frequency')\n",
    "plt.xlabel('Age')"
   ]
  },
  {
   "cell_type": "markdown",
   "metadata": {},
   "source": [
    "We can see that there is some group ages that the amount of people that survived are bigger than the amount of people that died, lets isolate this data in groups, the categories are going to be 0 - 18, 18 - 60 and 60+"
   ]
  },
  {
   "cell_type": "code",
   "execution_count": 17,
   "metadata": {},
   "outputs": [
    {
     "data": {
      "text/plain": [
       "<matplotlib.axes._subplots.AxesSubplot at 0xde89828>"
      ]
     },
     "execution_count": 17,
     "metadata": {},
     "output_type": "execute_result"
    },
    {
     "data": {
      "image/png": "[encoded data removed]",
      "text/plain": [
       "<matplotlib.figure.Figure at 0xbc643c8>"
      ]
     },
     "metadata": {},
     "output_type": "display_data"
    }
   ],
   "source": [
    "index_is_age_nan = titanic_data.index[titanic_data['Age'].isnull()]\n",
    "titanic_data = titanic_data.drop(index_is_age_nan)\n",
    "\n",
    "group_by_age = titanic_data.groupby([pd.cut(titanic_data['Age'], [0, 18, 60, titanic_data['Age'].max()]), 'Survived'])\n",
    "group_by_age = group_by_age['Age'].count()\n",
    "group_by_age.plot.bar(color=['black', 'blue'])"
   ]
  },
  {
   "cell_type": "markdown",
   "metadata": {},
   "source": [
    "From the graph above we can not see that there is a diference between the number of people that survived and died for the Age group between 0 and 18, going to create another group, 0-8 to see if we can see what the first histogram showed us"
   ]
  },
  {
   "cell_type": "code",
   "execution_count": 18,
   "metadata": {},
   "outputs": [
    {
     "data": {
      "text/plain": [
       "<matplotlib.axes._subplots.AxesSubplot at 0xdf18d68>"
      ]
     },
     "execution_count": 18,
     "metadata": {},
     "output_type": "execute_result"
    },
    {
     "data": {
      "image/png": "[encoded data removed]",
      "text/plain": [
       "<matplotlib.figure.Figure at 0xdfa9470>"
      ]
     },
     "metadata": {},
     "output_type": "display_data"
    }
   ],
   "source": [
    "group_by_age = titanic_data.groupby([pd.cut(titanic_data['Age'], [0, 8, 18, 60, titanic_data['Age'].max()]), 'Survived'])\n",
    "group_by_age = group_by_age['Age'].count()\n",
    "group_by_age.plot.bar(color=['black', 'blue'])"
   ]
  },
  {
   "cell_type": "markdown",
   "metadata": {},
   "source": [
    "Ok, now we can observe what we expected from the first histogram, that the only group were we have more survivers than deads is in the group age from 0 to 10, all the other groups we had more deads than survivers.\n",
    "\n",
    "Now we know that woman have a higher chance of surviving and there is differences in the number of survivers between age groups. Does this tendency of more woman survivers apply to all age groups?"
   ]
  },
  {
   "cell_type": "code",
   "execution_count": 19,
   "metadata": {},
   "outputs": [
    {
     "data": {
      "image/png": "[encoded data removed]",
      "text/plain": [
       "<matplotlib.figure.Figure at 0xc030c50>"
      ]
     },
     "metadata": {},
     "output_type": "display_data"
    },
    {
     "data": {
      "image/png": "[encoded data removed]",
      "text/plain": [
       "<matplotlib.figure.Figure at 0xc030550>"
      ]
     },
     "metadata": {},
     "output_type": "display_data"
    }
   ],
   "source": [
    "def plot_histogram_two_in_one_plot(data_frame, title):\n",
    "    group_by_sex = data_frame.groupby('Sex')\n",
    "    plt.figure()\n",
    "    plt.title(title)\n",
    "    group_by_sex.get_group('female')['Age'].hist(alpha=0.5, bins=10, label = 'female', color = 'red')\n",
    "    group_by_sex.get_group('male')['Age'].hist(alpha=0.5, bins=10, label='Male', color = 'blue')\n",
    "    plt.legend()\n",
    "    plt.ylabel('Frequency')\n",
    "\n",
    "plot_histogram_two_in_one_plot(titanic_survivers_data, 'Titanic survivers')\n",
    "plot_histogram_two_in_one_plot(titanic_non_survivers_data, 'Titanic non survivers')"
   ]
  },
  {
   "cell_type": "code",
   "execution_count": 20,
   "metadata": {},
   "outputs": [
    {
     "data": {
      "text/plain": [
       "<matplotlib.axes._subplots.AxesSubplot at 0xe857390>"
      ]
     },
     "execution_count": 20,
     "metadata": {},
     "output_type": "execute_result"
    },
    {
     "data": {
      "image/png": "[encoded data removed]",
      "text/plain": [
       "<matplotlib.figure.Figure at 0xe019278>"
      ]
     },
     "metadata": {},
     "output_type": "display_data"
    }
   ],
   "source": [
    "group_by_age = titanic_data.groupby([pd.cut(titanic_data['Age'], [0, 8, 18, 60, titanic_data['Age'].max()]), 'Survived', 'Sex'])\n",
    "group_by_age = group_by_age['Age'].count()\n",
    "\n",
    "group_by_age.plot.bar(color=['r', 'b', 'r', 'b', 'r', 'b', 'r', 'b', 'r', 'b','r', 'b', 'b', 'r', 'b'])"
   ]
  },
  {
   "cell_type": "markdown",
   "metadata": {},
   "source": [
    "Yes, we have more woman that survived for all age groups.\n",
    "\n",
    "#### 4) Does your chances of survive increase if you have a relative on board?"
   ]
  },
  {
   "cell_type": "code",
   "execution_count": 21,
   "metadata": {},
   "outputs": [
    {
     "name": "stdout",
     "output_type": "stream",
     "text": [
      "SibSp         0     1     2    3     4    5\n",
      "Survived                                   \n",
      "0         296.0  86.0  14.0  8.0  15.0  5.0\n",
      "1         175.0  97.0  11.0  4.0   3.0  NaN\n",
      "\n",
      "Proportion survived / non survived\n",
      "\n",
      "SibSp\n",
      "0    0.371550\n",
      "1    0.530055\n",
      "2    0.440000\n",
      "3    0.333333\n",
      "4    0.166667\n",
      "5         NaN\n",
      "dtype: float64\n"
     ]
    },
    {
     "data": {
      "text/plain": [
       "<matplotlib.text.Text at 0xebe3438>"
      ]
     },
     "execution_count": 21,
     "metadata": {},
     "output_type": "execute_result"
    },
    {
     "data": {
      "image/png": "[encoded data removed]",
      "text/plain": [
       "<matplotlib.figure.Figure at 0xe045278>"
      ]
     },
     "metadata": {},
     "output_type": "display_data"
    }
   ],
   "source": [
    "table = titanic_data.pivot_table(values='PassengerId', index='Survived', columns='SibSp', aggfunc=len)\n",
    "print(table)\n",
    "print('\\nProportion survived / non survived\\n')\n",
    "print(table.loc[1]/(table.loc[1] + table.loc[0]))\n",
    "groupby_sibsp = titanic_data.groupby(['SibSp', 'Survived'])\n",
    "groupby_sibsp = groupby_sibsp['SibSp'].count()\n",
    "groupby_sibsp.plot.bar(color = ['black', 'blue'], title = 'Survived vs SibSp')\n",
    "plt.ylabel('Frequency')"
   ]
  },
  {
   "cell_type": "code",
   "execution_count": 22,
   "metadata": {},
   "outputs": [
    {
     "name": "stdout",
     "output_type": "stream",
     "text": [
      "Parch         0     1     2    3    4    5    6\n",
      "Survived                                       \n",
      "0         335.0  49.0  29.0  2.0  4.0  4.0  1.0\n",
      "1         186.0  61.0  39.0  3.0  NaN  1.0  NaN\n",
      "\n",
      "Proportion survived / non survived\n",
      "\n",
      "Parch\n",
      "0    0.357006\n",
      "1    0.554545\n",
      "2    0.573529\n",
      "3    0.600000\n",
      "4         NaN\n",
      "5    0.200000\n",
      "6         NaN\n",
      "dtype: float64\n"
     ]
    },
    {
     "data": {
      "text/plain": [
       "<matplotlib.text.Text at 0xf0647b8>"
      ]
     },
     "execution_count": 22,
     "metadata": {},
     "output_type": "execute_result"
    },
    {
     "data": {
      "image/png": "[encoded data removed]",
      "text/plain": [
       "<matplotlib.figure.Figure at 0xe930d30>"
      ]
     },
     "metadata": {},
     "output_type": "display_data"
    }
   ],
   "source": [
    "table = titanic_data.pivot_table(values='PassengerId', index='Survived', columns='Parch', aggfunc=len)\n",
    "print(table)\n",
    "print('\\nProportion survived / non survived\\n')\n",
    "print(table.loc[1]/(table.loc[1] + table.loc[0]))\n",
    "groupby_sibsp = titanic_data.groupby(['Parch', 'Survived'])\n",
    "groupby_sibsp = groupby_sibsp['Parch'].count()\n",
    "groupby_sibsp.plot.bar(color = ['black', 'blue'], title = 'Survived vs Parch')\n",
    "plt.ylabel('Frequency')"
   ]
  },
  {
   "cell_type": "markdown",
   "metadata": {},
   "source": [
    "We can notice that if you do not have any relative/spouse on board, the porportion of people who did not survived are higher than the ones that have someone on board.\n",
    "\n",
    "From Survived vs SibSp, we can notice that for number of relatives/spouse egual to 0, the chance of surviving is around 40%, while if you had 1 SibSp on board, the chances of surviving are 53%.\n",
    "\n",
    "Almost the same pattern happens on Survived vs Parch.\n",
    "\n",
    "A curious fact is that, when the number of SibSp or Parch increases, the chances of surviving decreases."
   ]
  },
  {
   "cell_type": "markdown",
   "metadata": {},
   "source": [
    "#### 5) Are survivers from a distinct social class?"
   ]
  },
  {
   "cell_type": "code",
   "execution_count": 23,
   "metadata": {},
   "outputs": [
    {
     "data": {
      "text/plain": [
       "<matplotlib.text.Text at 0xf0584a8>"
      ]
     },
     "execution_count": 23,
     "metadata": {},
     "output_type": "execute_result"
    },
    {
     "data": {
      "image/png": "[encoded data removed]",
      "text/plain": [
       "<matplotlib.figure.Figure at 0xe253f60>"
      ]
     },
     "metadata": {},
     "output_type": "display_data"
    }
   ],
   "source": [
    "groupby_social_class = titanic_data.groupby(['Pclass', 'Survived'])\n",
    "groupby_social_class = groupby_social_class['Pclass'].count()\n",
    "groupby_social_class.plot.bar(color = ['black', 'blue'], title = 'Amount of survivers and non survivers by social class')\n",
    "plt.ylabel('Frequency')"
   ]
  },
  {
   "cell_type": "markdown",
   "metadata": {},
   "source": [
    "From the graph above we can see that the first class had the biggest number of suvivers.\n",
    "\n",
    "Playing aroung with Fare variable, it should correlate with the graph above."
   ]
  },
  {
   "cell_type": "code",
   "execution_count": 24,
   "metadata": {},
   "outputs": [
    {
     "data": {
      "text/plain": [
       "<matplotlib.text.Text at 0xf9ef6d8>"
      ]
     },
     "execution_count": 24,
     "metadata": {},
     "output_type": "execute_result"
    },
    {
     "data": {
      "image/png": "[encoded data removed]",
      "text/plain": [
       "<matplotlib.figure.Figure at 0xeab26d8>"
      ]
     },
     "metadata": {},
     "output_type": "display_data"
    },
    {
     "data": {
      "image/png": "[encoded data removed]",
      "text/plain": [
       "<matplotlib.figure.Figure at 0xe694978>"
      ]
     },
     "metadata": {},
     "output_type": "display_data"
    },
    {
     "data": {
      "image/png": "[encoded data removed]",
      "text/plain": [
       "<matplotlib.figure.Figure at 0xf4c5b00>"
      ]
     },
     "metadata": {},
     "output_type": "display_data"
    },
    {
     "data": {
      "image/png": "[encoded data removed]",
      "text/plain": [
       "<matplotlib.figure.Figure at 0xf495be0>"
      ]
     },
     "metadata": {},
     "output_type": "display_data"
    },
    {
     "data": {
      "image/png": "[encoded data removed]",
      "text/plain": [
       "<matplotlib.figure.Figure at 0xf7a8400>"
      ]
     },
     "metadata": {},
     "output_type": "display_data"
    }
   ],
   "source": [
    "titanic_data['Fare'].hist(bins = 50)\n",
    "plt.title('Histogram of Fare')\n",
    "plt.ylabel('Frequency')\n",
    "plt.xlabel('Fare')\n",
    "\n",
    "titanic_data.boxplot(column = 'Fare', by=['Survived'], sym='k.')\n",
    "plt.ylabel('Frequency')\n",
    "\n",
    "titanic_data.groupby('Sex').boxplot(column = 'Fare', by=['Survived'], sym='k.')\n",
    "plt.ylabel('Frequency')\n",
    "\n",
    "titanic_data.boxplot(column = 'Fare', by=['Survived', 'Pclass'],sym='k.')\n",
    "plt.ylabel('Frequency')\n",
    "\n",
    "titanic_data.boxplot(column = 'Fare', by=['Survived', 'Pclass', 'Sex'],sym='k.', figsize=(16,9))\n",
    "plt.ylabel('Frequency')"
   ]
  },
  {
   "cell_type": "markdown",
   "metadata": {},
   "source": [
    "The histogram above show us that fare has a positive distribution.\n",
    "\n",
    "The second and third box plots shows that the ones that survived have paid higher fares, that happened for woman and for man.\n",
    "\n",
    "On the Third graph, the diference is evident, between the ones that survived, most of the people are from first class.\n",
    "\n",
    "The fourth graph, Boxplot grouped by survived, Pclass and Sex, does not give more relevant information.\n",
    "\n",
    "#### 6) Were most of the survivors embarked from?"
   ]
  },
  {
   "cell_type": "code",
   "execution_count": 25,
   "metadata": {},
   "outputs": [
    {
     "name": "stdout",
     "output_type": "stream",
     "text": [
      "Survived    0    1\n",
      "Embarked          \n",
      "C          51   79\n",
      "Q          20    8\n",
      "S         353  201\n",
      "          PassengerId\n",
      "Embarked             \n",
      "C                 130\n",
      "Q                  28\n",
      "S                 554\n"
     ]
    },
    {
     "data": {
      "text/plain": [
       "<matplotlib.axes._subplots.AxesSubplot at 0xf97b898>"
      ]
     },
     "execution_count": 25,
     "metadata": {},
     "output_type": "execute_result"
    },
    {
     "data": {
      "image/png": "[encoded data removed]",
      "text/plain": [
       "<matplotlib.figure.Figure at 0xe6d0e80>"
      ]
     },
     "metadata": {},
     "output_type": "display_data"
    },
    {
     "data": {
      "image/png": "[encoded data removed]",
      "text/plain": [
       "<matplotlib.figure.Figure at 0x10092e48>"
      ]
     },
     "metadata": {},
     "output_type": "display_data"
    },
    {
     "data": {
      "image/png": "[encoded data removed]",
      "text/plain": [
       "<matplotlib.figure.Figure at 0xf9942b0>"
      ]
     },
     "metadata": {},
     "output_type": "display_data"
    }
   ],
   "source": [
    "print(titanic_data.pivot_table(values='PassengerId', index='Embarked', columns='Survived', aggfunc=len))\n",
    "print(titanic_data.pivot_table(values='PassengerId', index='Embarked', aggfunc=len))\n",
    "titanic_data.pivot_table(values='PassengerId', index='Embarked', columns='Survived',\n",
    "                         aggfunc=len).plot(kind='bar', color = ['black', 'blue'], title='Survivers grouped by Embarked')\n",
    "\n",
    "titanic_data.boxplot(column = 'Fare', by=['Survived', 'Embarked'])\n",
    "\n",
    "titanic_data.boxplot(column = 'Fare', by=['Embarked','Sex'])"
   ]
  },
  {
   "cell_type": "markdown",
   "metadata": {},
   "source": [
    "The bar plot Survivers grouped by Embarked tell us that most of the people embarked from S and also most of the survivors embarked from S.\n",
    "\n",
    "One thing that have to be taken in consideration is that 177 values were removed from analyses because they were invalids. That can change the results of the analyses.\n",
    "\n",
    "Z - test could be used but we can not take any conclusions from it because our distribution is skewed."
   ]
  }
 ],
 "metadata": {
  "anaconda-cloud": {},
  "kernelspec": {
   "display_name": "Python 2",
   "language": "python",
   "name": "python2"
  },
  "language_info": {
   "codemirror_mode": {
    "name": "ipython",
    "version": 2
   },
   "file_extension": ".py",
   "mimetype": "text/x-python",
   "name": "python",
   "nbconvert_exporter": "python",
   "pygments_lexer": "ipython2",
   "version": "2.7.13"
  }
 },
 "nbformat": 4,
 "nbformat_minor": 2
}
